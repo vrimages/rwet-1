{
 "cells": [
  {
   "cell_type": "code",
   "execution_count": 50,
   "id": "daa9d5d5",
   "metadata": {},
   "outputs": [],
   "source": [
    "import json\n",
    "import math\n",
    "import spacy\n",
    "import numpy as np\n",
    "import random"
   ]
  },
  {
   "cell_type": "code",
   "execution_count": 51,
   "id": "9042d3cd",
   "metadata": {},
   "outputs": [],
   "source": [
    "nlp = spacy.load('en_core_web_md')"
   ]
  },
  {
   "cell_type": "code",
   "execution_count": 52,
   "id": "6dc0ed75",
   "metadata": {},
   "outputs": [],
   "source": [
    "prob_lookup = dict(json.load(open(\"./wordfreq-en-25000-log.json\")))"
   ]
  },
  {
   "cell_type": "code",
   "execution_count": 53,
   "id": "6d87235c",
   "metadata": {},
   "outputs": [
    {
     "data": {
      "text/plain": [
       "False"
      ]
     },
     "execution_count": 53,
     "metadata": {},
     "output_type": "execute_result"
    }
   ],
   "source": [
    "prob_lookup['cats'] > prob_lookup['dogs']"
   ]
  },
  {
   "cell_type": "code",
   "execution_count": 54,
   "id": "b3670677",
   "metadata": {},
   "outputs": [
    {
     "name": "stdout",
     "output_type": "stream",
     "text": [
      "Requirement already satisfied: simpleneighbors in /Users/lucaswozniak/opt/anaconda3/lib/python3.9/site-packages (0.1.0)\r\n"
     ]
    }
   ],
   "source": [
    "import sys\n",
    "!{sys.executable} -m pip install simpleneighbors"
   ]
  },
  {
   "cell_type": "code",
   "execution_count": 55,
   "id": "c542ea87",
   "metadata": {},
   "outputs": [
    {
     "name": "stdout",
     "output_type": "stream",
     "text": [
      "Requirement already satisfied: annoy==1.16.3 in /Users/lucaswozniak/opt/anaconda3/lib/python3.9/site-packages (1.16.3)\r\n"
     ]
    }
   ],
   "source": [
    "import sys\n",
    "!{sys.executable} -m pip install annoy==1.16.3"
   ]
  },
  {
   "cell_type": "code",
   "execution_count": 56,
   "id": "217dcad2",
   "metadata": {},
   "outputs": [],
   "source": [
    "from simpleneighbors import SimpleNeighbors"
   ]
  },
  {
   "cell_type": "code",
   "execution_count": 57,
   "id": "acba0cef",
   "metadata": {},
   "outputs": [],
   "source": [
    "def vec(s):\n",
    "    return nlp.vocab[s].vector"
   ]
  },
  {
   "cell_type": "code",
   "execution_count": 58,
   "id": "7eccfca6",
   "metadata": {},
   "outputs": [],
   "source": [
    "def meanv(vecs):\n",
    "    total = np.sum(vecs, axis=0)\n",
    "    return total / len(vecs)"
   ]
  },
  {
   "cell_type": "code",
   "execution_count": 59,
   "id": "e4eac08d",
   "metadata": {},
   "outputs": [],
   "source": [
    "lookup = SimpleNeighbors(300)\n",
    "for word in prob_lookup.keys():\n",
    "    if nlp.vocab[word].has_vector:\n",
    "        lookup.add_one(word, vec(word))\n",
    "lookup.build()"
   ]
  },
  {
   "cell_type": "code",
   "execution_count": 60,
   "id": "790bfe4e",
   "metadata": {},
   "outputs": [
    {
     "data": {
      "text/plain": [
       "['baby',\n",
       " 'wow',\n",
       " 'cab',\n",
       " 'cabs',\n",
       " 'dog',\n",
       " 'hound',\n",
       " 'canine',\n",
       " 'kennel',\n",
       " 'merry',\n",
       " 'cat',\n",
       " 'birthday',\n",
       " 'greetings']"
      ]
     },
     "execution_count": 60,
     "metadata": {},
     "output_type": "execute_result"
    }
   ],
   "source": [
    "lookup.nearest(meanv([vec(\"hello\"), vec(\"train\")]))"
   ]
  },
  {
   "cell_type": "code",
   "execution_count": 61,
   "id": "e7e7f5d2",
   "metadata": {},
   "outputs": [
    {
     "data": {
      "text/plain": [
       "['chef',\n",
       " 'chefs',\n",
       " 'salad',\n",
       " 'salads',\n",
       " 'platter',\n",
       " 'cheese',\n",
       " 'cheeses',\n",
       " 'pasta',\n",
       " 'alfredo',\n",
       " 'sauce',\n",
       " 'glaze',\n",
       " 'steak']"
      ]
     },
     "execution_count": 61,
     "metadata": {},
     "output_type": "execute_result"
    }
   ],
   "source": [
    "lookup.nearest(vec(\"wine\") - vec(\"alcohol\"))"
   ]
  },
  {
   "cell_type": "code",
   "execution_count": 62,
   "id": "aebfae4d",
   "metadata": {
    "scrolled": true
   },
   "outputs": [
    {
     "data": {
      "text/plain": [
       "['php',\n",
       " 'asp',\n",
       " 'java',\n",
       " 'ps',\n",
       " 'vm',\n",
       " 'admin',\n",
       " 'pascal',\n",
       " 'db',\n",
       " 'conn',\n",
       " 'cp',\n",
       " 'mv',\n",
       " 'android']"
      ]
     },
     "execution_count": 62,
     "metadata": {},
     "output_type": "execute_result"
    }
   ],
   "source": [
    "lookup.nearest(vec(\"hello\") - vec(\"goodbye\"))"
   ]
  },
  {
   "cell_type": "code",
   "execution_count": 114,
   "id": "395d53f6",
   "metadata": {},
   "outputs": [],
   "source": [
    "original_word = \"house\"\n",
    "target_word = \"chimney\"\n",
    "factor = 0.7"
   ]
  },
  {
   "cell_type": "code",
   "execution_count": 115,
   "id": "0a7e7b8e",
   "metadata": {},
   "outputs": [
    {
     "data": {
      "text/plain": [
       "'chimney'"
      ]
     },
     "execution_count": 115,
     "metadata": {},
     "output_type": "execute_result"
    }
   ],
   "source": [
    "random.choice(lookup.nearest((vec(original_word)*(1-factor)) + (vec(target_word)*factor), 5))"
   ]
  },
  {
   "cell_type": "code",
   "execution_count": 116,
   "id": "3e86aec3",
   "metadata": {},
   "outputs": [],
   "source": [
    "sent = nlp(\"I am at the library.\")"
   ]
  },
  {
   "cell_type": "code",
   "execution_count": 117,
   "id": "b76cbc4d",
   "metadata": {},
   "outputs": [
    {
     "data": {
      "text/plain": [
       "['so',\n",
       " 'just',\n",
       " 'it',\n",
       " 'still',\n",
       " 'myself',\n",
       " 'time',\n",
       " 'sure',\n",
       " 'really',\n",
       " 'wondering',\n",
       " 'thought',\n",
       " 'one',\n",
       " 'see']"
      ]
     },
     "execution_count": 117,
     "metadata": {},
     "output_type": "execute_result"
    }
   ],
   "source": [
    "lookup.nearest(sent.vector)"
   ]
  },
  {
   "cell_type": "code",
   "execution_count": 118,
   "id": "f76c220c",
   "metadata": {},
   "outputs": [],
   "source": [
    "chunk_lookup = SimpleNeighbors(300)\n",
    "for chunk in doc.noun_chunks:\n",
    "    chunk_text = chunk.text.replace(\"\\n\", \" \")\n",
    "    if chunk_text not in chunk_lookup.corpus:\n",
    "        chunk_lookup.add_one(chunk_text, chunk.vector)\n",
    "chunk_lookup.build()"
   ]
  },
  {
   "cell_type": "code",
   "execution_count": 119,
   "id": "3a8ce1c4",
   "metadata": {},
   "outputs": [
    {
     "data": {
      "text/plain": [
       "['day',\n",
       " 'my excellent Plan',\n",
       " 'the Last Supper',\n",
       " 'night',\n",
       " 'Night',\n",
       " 'my way',\n",
       " 'my thought',\n",
       " 'this hour',\n",
       " 'this last Kusters',\n",
       " 'last week',\n",
       " 'yesterday',\n",
       " 'my walk']"
      ]
     },
     "execution_count": 119,
     "metadata": {},
     "output_type": "execute_result"
    }
   ],
   "source": [
    "chunk_lookup.nearest(nlp(\"good morning\").vector)"
   ]
  },
  {
   "cell_type": "markdown",
   "id": "1a337340",
   "metadata": {},
   "source": [
    "Loading the 5 authors' books (Abram, Castaneda, Emezi, Kimmerer, Kusters)"
   ]
  },
  {
   "cell_type": "code",
   "execution_count": 102,
   "id": "188872bd",
   "metadata": {},
   "outputs": [],
   "source": [
    "doc_kusters = nlp(open(\"./kusters_mad.txt\").read())"
   ]
  },
  {
   "cell_type": "code",
   "execution_count": 103,
   "id": "d5399961",
   "metadata": {},
   "outputs": [],
   "source": [
    "sentence_lookup_kusters = SimpleNeighbors(300)\n",
    "for sent in doc_kusters.sents:\n",
    "    # replace linebreaks to make the output a bit more neat\n",
    "    sentence_lookup_kusters.add_one(sent.text.replace(\"\\n\", \" \"), sent.vector)\n",
    "sentence_lookup_kusters.build()"
   ]
  },
  {
   "cell_type": "code",
   "execution_count": 104,
   "id": "e0fff6d1",
   "metadata": {},
   "outputs": [],
   "source": [
    "doc_emezi = nlp(open(\"./emezi_fresh.txt\").read())"
   ]
  },
  {
   "cell_type": "code",
   "execution_count": 105,
   "id": "e0589049",
   "metadata": {},
   "outputs": [],
   "source": [
    "sentence_lookup_emezi = SimpleNeighbors(300)\n",
    "for sent in doc_emezi.sents:\n",
    "    # replace linebreaks to make the output a bit more neat\n",
    "    sentence_lookup_emezi.add_one(sent.text.replace(\"\\n\", \" \"), sent.vector)\n",
    "sentence_lookup_emezi.build()"
   ]
  },
  {
   "cell_type": "code",
   "execution_count": 106,
   "id": "3d515204",
   "metadata": {},
   "outputs": [],
   "source": [
    "doc_abram = nlp(open(\"./abram_spell.txt\").read())"
   ]
  },
  {
   "cell_type": "code",
   "execution_count": 107,
   "id": "be013661",
   "metadata": {},
   "outputs": [],
   "source": [
    "sentence_lookup_abram = SimpleNeighbors(300)\n",
    "for sent in doc_abram.sents:\n",
    "    # replace linebreaks to make the output a bit more neat\n",
    "    sentence_lookup_abram.add_one(sent.text.replace(\"\\n\", \" \"), sent.vector)\n",
    "sentence_lookup_abram.build()"
   ]
  },
  {
   "cell_type": "code",
   "execution_count": 108,
   "id": "396cb4f8",
   "metadata": {},
   "outputs": [],
   "source": [
    "doc_castaneda = nlp(open(\"./castaneda_ixtlan.txt\").read())"
   ]
  },
  {
   "cell_type": "code",
   "execution_count": 109,
   "id": "505df5f0",
   "metadata": {},
   "outputs": [],
   "source": [
    "sentence_lookup_castaneda = SimpleNeighbors(300)\n",
    "for sent in doc_castaneda.sents:\n",
    "    # replace linebreaks to make the output a bit more neat\n",
    "    sentence_lookup_castaneda.add_one(sent.text.replace(\"\\n\", \" \"), sent.vector)\n",
    "sentence_lookup_castaneda.build()"
   ]
  },
  {
   "cell_type": "code",
   "execution_count": 110,
   "id": "9a2742bd",
   "metadata": {},
   "outputs": [],
   "source": [
    "doc_kimmerer = nlp(open(\"./kimmerer_sweet.txt\").read())"
   ]
  },
  {
   "cell_type": "code",
   "execution_count": 111,
   "id": "7434aa23",
   "metadata": {},
   "outputs": [],
   "source": [
    "sentence_lookup_kimmerer = SimpleNeighbors(300)\n",
    "for sent in doc_kimmerer.sents:\n",
    "    # replace linebreaks to make the output a bit more neat\n",
    "    sentence_lookup_kimmerer.add_one(sent.text.replace(\"\\n\", \" \"), sent.vector)\n",
    "sentence_lookup_kimmerer.build()"
   ]
  },
  {
   "cell_type": "markdown",
   "id": "1165a077",
   "metadata": {},
   "source": [
    "The interview begins"
   ]
  },
  {
   "cell_type": "markdown",
   "id": "b68b13d4",
   "metadata": {},
   "source": [
    "Question 1: What do you think dreams mean?"
   ]
  },
  {
   "cell_type": "code",
   "execution_count": 130,
   "id": "11896326",
   "metadata": {},
   "outputs": [
    {
     "name": "stdout",
     "output_type": "stream",
     "text": [
      "Abram: “The most you should say is that you’ll try to catch a fish, or better yet, don’t say anything at all.\n"
     ]
    }
   ],
   "source": [
    "print(\"Abram:\", random.choice(sentence_lookup_abram.nearest(nlp(\"What do you think dreams mean\").vector)))"
   ]
  },
  {
   "cell_type": "code",
   "execution_count": 131,
   "id": "15ceb3fd",
   "metadata": {},
   "outputs": [
    {
     "name": "stdout",
     "output_type": "stream",
     "text": [
      "Castaneda: What do you think we can do about it?\n"
     ]
    }
   ],
   "source": [
    "print(\"Castaneda:\", random.choice(sentence_lookup_castaneda.nearest(nlp(\"What do you think dreams mean\").vector)))"
   ]
  },
  {
   "cell_type": "code",
   "execution_count": 132,
   "id": "3c304a44",
   "metadata": {},
   "outputs": [
    {
     "name": "stdout",
     "output_type": "stream",
     "text": [
      "Emezi:  “How can you not know that?\n"
     ]
    }
   ],
   "source": [
    "print(\"Emezi:\", random.choice(sentence_lookup_emezi.nearest(nlp(\"What do you think dreams mean\").vector)))"
   ]
  },
  {
   "cell_type": "code",
   "execution_count": 133,
   "id": "e2654fb5",
   "metadata": {},
   "outputs": [
    {
     "name": "stdout",
     "output_type": "stream",
     "text": [
      "Kimmerer: Do you think the ducks would stop here if we took it all?”\n"
     ]
    }
   ],
   "source": [
    "print(\"Kimmerer:\", random.choice(sentence_lookup_kimmerer.nearest(nlp(\"What do you think dreams mean\").vector)))"
   ]
  },
  {
   "cell_type": "code",
   "execution_count": 134,
   "id": "c298e06f",
   "metadata": {},
   "outputs": [
    {
     "name": "stdout",
     "output_type": "stream",
     "text": [
      "Kusters: Things must do what they do.\n"
     ]
    }
   ],
   "source": [
    "print(\"Kusters:\", random.choice(sentence_lookup_kusters.nearest(nlp(\"What do you think dreams mean\").vector)))"
   ]
  },
  {
   "cell_type": "markdown",
   "id": "53b78395",
   "metadata": {},
   "source": [
    "Question 2: What’s the strangest thought you ever had?"
   ]
  },
  {
   "cell_type": "code",
   "execution_count": 159,
   "id": "5c86317d",
   "metadata": {},
   "outputs": [
    {
     "name": "stdout",
     "output_type": "stream",
     "text": [
      "Abram: You know why their evening call is so sad?\n"
     ]
    }
   ],
   "source": [
    "print(\"Abram:\", random.choice(sentence_lookup_abram.nearest(nlp(\"What’s the strangest thought you ever had\").vector)))"
   ]
  },
  {
   "cell_type": "code",
   "execution_count": 160,
   "id": "65e88f8c",
   "metadata": {},
   "outputs": [
    {
     "name": "stdout",
     "output_type": "stream",
     "text": [
      "Castaneda: \"The way we ended up talking about it was because I said that to ask questions about one's past is a bunch of crap.\n"
     ]
    }
   ],
   "source": [
    "print(\"Castaneda:\", random.choice(sentence_lookup_castaneda.nearest(nlp(\"What’s the strangest thought you ever had\").vector)))"
   ]
  },
  {
   "cell_type": "code",
   "execution_count": 161,
   "id": "ac53bcaa",
   "metadata": {},
   "outputs": [
    {
     "name": "stdout",
     "output_type": "stream",
     "text": [
      "Emezi: But I came into the world the way I did because of Soren, and whatever chance I had of being anything else was lost in that.\n"
     ]
    }
   ],
   "source": [
    "print(\"Emezi:\", random.choice(sentence_lookup_emezi.nearest(nlp(\"What’s the strangest thought you ever had\").vector)))"
   ]
  },
  {
   "cell_type": "code",
   "execution_count": 162,
   "id": "c4ede593",
   "metadata": {},
   "outputs": [
    {
     "name": "stdout",
     "output_type": "stream",
     "text": [
      "Kimmerer: “That’s what my mother would say when we spoiled splints.”\n"
     ]
    }
   ],
   "source": [
    "print(\"Kimmerer:\", random.choice(sentence_lookup_kimmerer.nearest(nlp(\"What’s the strangest thought you ever had\").vector)))"
   ]
  },
  {
   "cell_type": "code",
   "execution_count": 163,
   "id": "ad0878e5",
   "metadata": {},
   "outputs": [
    {
     "name": "stdout",
     "output_type": "stream",
     "text": [
      "Kusters: It was just like a movie set that was already pointing toward the future, to the book I was going write.\n"
     ]
    }
   ],
   "source": [
    "print(\"Kusters:\", random.choice(sentence_lookup_kusters.nearest(nlp(\"What’s the strangest thought you ever had\").vector)))"
   ]
  },
  {
   "cell_type": "markdown",
   "id": "de91cfbf",
   "metadata": {},
   "source": [
    "Question 3: Do you believe the English language describes reality well?"
   ]
  },
  {
   "cell_type": "code",
   "execution_count": 165,
   "id": "bce2cd33",
   "metadata": {},
   "outputs": [
    {
     "name": "stdout",
     "output_type": "stream",
     "text": [
      "Abram: Plato provides a remarkably precise description of this new situation when he has Socrates state, in the Phaedrus, that written words “seem to talk to you as though they were intelligent, but if you ask them anything about what they say, from a desire to be instructed, they go on telling you just the same thing forever” (Phaedrus, 275d).\n"
     ]
    }
   ],
   "source": [
    "print(\"Abram:\", random.choice(sentence_lookup_abram.nearest(nlp(\"Do you believe the English language describes reality well\").vector)))"
   ]
  },
  {
   "cell_type": "code",
   "execution_count": 166,
   "id": "765c122f",
   "metadata": {},
   "outputs": [
    {
     "name": "stdout",
     "output_type": "stream",
     "text": [
      "Castaneda: \"Only when someone else knows that does it become personal history.\n"
     ]
    }
   ],
   "source": [
    "print(\"Castaneda:\", random.choice(sentence_lookup_castaneda.nearest(nlp(\"Do you believe the English language describes reality well\").vector)))"
   ]
  },
  {
   "cell_type": "code",
   "execution_count": 167,
   "id": "950b3e4c",
   "metadata": {},
   "outputs": [
    {
     "name": "stdout",
     "output_type": "stream",
     "text": [
      "Emezi: “The problem is that when you have saints, old-school saints, trying to communicate with you, they don’t understand.\n"
     ]
    }
   ],
   "source": [
    "print(\"Emezi:\", random.choice(sentence_lookup_emezi.nearest(nlp(\"Do you believe the English language describes reality well\").vector)))"
   ]
  },
  {
   "cell_type": "code",
   "execution_count": 168,
   "id": "f174cf8f",
   "metadata": {},
   "outputs": [
    {
     "name": "stdout",
     "output_type": "stream",
     "text": [
      "Kimmerer: It’s too beautiful for English to explain.”\n"
     ]
    }
   ],
   "source": [
    "print(\"Kimmerer:\", random.choice(sentence_lookup_kimmerer.nearest(nlp(\"Do you believe the English language describes reality well\").vector)))"
   ]
  },
  {
   "cell_type": "code",
   "execution_count": 169,
   "id": "e1652fc5",
   "metadata": {},
   "outputs": [
    {
     "name": "stdout",
     "output_type": "stream",
     "text": [
      "Kusters: In the same way that “normal people” know whether they’re hearing or seeing something, people who have visions or hallucinations usually know how to distinguish between visions and “real” observations (Jannemiek Tukker in a personal remark).\n"
     ]
    }
   ],
   "source": [
    "print(\"Kusters:\", random.choice(sentence_lookup_kusters.nearest(nlp(\"Do you believe the English language describes reality well\").vector)))"
   ]
  },
  {
   "cell_type": "markdown",
   "id": "1ac54d2e",
   "metadata": {},
   "source": [
    "Question 4: What would you recommend to a new student of perception and independent thought?"
   ]
  },
  {
   "cell_type": "code",
   "execution_count": 170,
   "id": "41a82f1c",
   "metadata": {},
   "outputs": [
    {
     "name": "stdout",
     "output_type": "stream",
     "text": [
      "Abram: Plato provides a remarkably precise description of this new situation when he has Socrates state, in the Phaedrus, that written words “seem to talk to you as though they were intelligent, but if you ask them anything about what they say, from a desire to be instructed, they go on telling you just the same thing forever” (Phaedrus, 275d).\n"
     ]
    }
   ],
   "source": [
    "print(\"Abram:\", random.choice(sentence_lookup_abram.nearest(nlp(\"What would you recommend to a new student of perception and independent thought\").vector)))"
   ]
  },
  {
   "cell_type": "code",
   "execution_count": 171,
   "id": "441e0d47",
   "metadata": {},
   "outputs": [
    {
     "name": "stdout",
     "output_type": "stream",
     "text": [
      "Castaneda: But you cannot make one until you have had a vision of it in dreaming.\n"
     ]
    }
   ],
   "source": [
    "print(\"Castaneda:\", random.choice(sentence_lookup_castaneda.nearest(nlp(\"What would you recommend to a new student of perception and independent thought\").vector)))"
   ]
  },
  {
   "cell_type": "code",
   "execution_count": 172,
   "id": "2e171988",
   "metadata": {},
   "outputs": [
    {
     "name": "stdout",
     "output_type": "stream",
     "text": [
      "Emezi:  But it was not the using of humans that alarmed the Ada enough to try and guide us with a code.\n"
     ]
    }
   ],
   "source": [
    "print(\"Emezi:\", random.choice(sentence_lookup_emezi.nearest(nlp(\"What would you recommend to a new student of perception and independent thought\").vector)))"
   ]
  },
  {
   "cell_type": "code",
   "execution_count": 173,
   "id": "09587924",
   "metadata": {},
   "outputs": [
    {
     "name": "stdout",
     "output_type": "stream",
     "text": [
      "Kimmerer: Shouldn’t students devoted to a profession in health see this firsthand?\n"
     ]
    }
   ],
   "source": [
    "print(\"Kimmerer:\", random.choice(sentence_lookup_kimmerer.nearest(nlp(\"What would you recommend to a new student of perception and independent thought\").vector)))"
   ]
  },
  {
   "cell_type": "code",
   "execution_count": 174,
   "id": "62d7dcb7",
   "metadata": {},
   "outputs": [
    {
     "name": "stdout",
     "output_type": "stream",
     "text": [
      "Kusters: Even in psychoanalysis, the school of thought that claims to be sensitive to subjective experience, there is something called a “reality principle” that mad people are said to be unable to comply with.\n"
     ]
    }
   ],
   "source": [
    "print(\"Kusters:\", random.choice(sentence_lookup_kusters.nearest(nlp(\"What would you recommend to a new student of perception and independent thought\").vector)))"
   ]
  },
  {
   "cell_type": "markdown",
   "id": "0d15ef0d",
   "metadata": {},
   "source": [
    "Question 5: How does the future of humanity look?"
   ]
  },
  {
   "cell_type": "code",
   "execution_count": 175,
   "id": "2ec306e6",
   "metadata": {},
   "outputs": [
    {
     "name": "stdout",
     "output_type": "stream",
     "text": [
      "Abram: In his last work Merleau-Ponty describes the relation between the perceptual world and the world of our supposedly incorporeal ideals and thoughts: “it is by borrowing from the world’s structure that the universe of truth and of thought is constructed for us.”34\n"
     ]
    }
   ],
   "source": [
    "print(\"Abram:\", random.choice(sentence_lookup_abram.nearest(nlp(\"How does the future of humanity look\").vector)))"
   ]
  },
  {
   "cell_type": "code",
   "execution_count": 176,
   "id": "43cb6401",
   "metadata": {},
   "outputs": [
    {
     "name": "stdout",
     "output_type": "stream",
     "text": [
      "Castaneda: Don Juan's precondition for \"stopping the world\" was that one had to be convinced; in other words, one had to learn the new description in a total sense, for the purpose of pitting it against the old one, and in that way break the dogmatic certainty, which we all share, that the validity of our perceptions, or our reality of the world, is not to be questioned.\n"
     ]
    }
   ],
   "source": [
    "print(\"Castaneda:\", random.choice(sentence_lookup_castaneda.nearest(nlp(\"How does the future of humanity look\").vector)))"
   ]
  },
  {
   "cell_type": "code",
   "execution_count": 177,
   "id": "89897f5a",
   "metadata": {},
   "outputs": [
    {
     "name": "stdout",
     "output_type": "stream",
     "text": [
      "Emezi: That would contaminate the human world—bodies are not meant to remember things from the other side.\n"
     ]
    }
   ],
   "source": [
    "print(\"Emezi:\", random.choice(sentence_lookup_emezi.nearest(nlp(\"How does the future of humanity look\").vector)))"
   ]
  },
  {
   "cell_type": "code",
   "execution_count": 178,
   "id": "fe9f6d0f",
   "metadata": {},
   "outputs": [
    {
     "name": "stdout",
     "output_type": "stream",
     "text": [
      "Kimmerer:  People of Corn, People of Light The story of our relationship to the earth is written more truthfully on the land than on the page.\n"
     ]
    }
   ],
   "source": [
    "print(\"Kimmerer:\", random.choice(sentence_lookup_kimmerer.nearest(nlp(\"How does the future of humanity look\").vector)))"
   ]
  },
  {
   "cell_type": "code",
   "execution_count": 179,
   "id": "bea10030",
   "metadata": {},
   "outputs": [
    {
     "name": "stdout",
     "output_type": "stream",
     "text": [
      "Kusters:  What can psychiatry tell us about the experience of hypo- and hyperreality?\n"
     ]
    }
   ],
   "source": [
    "print(\"Kusters:\", random.choice(sentence_lookup_kusters.nearest(nlp(\"How does the future of humanity look\").vector)))"
   ]
  }
 ],
 "metadata": {
  "kernelspec": {
   "display_name": "Python 3 (ipykernel)",
   "language": "python",
   "name": "python3"
  },
  "language_info": {
   "codemirror_mode": {
    "name": "ipython",
    "version": 3
   },
   "file_extension": ".py",
   "mimetype": "text/x-python",
   "name": "python",
   "nbconvert_exporter": "python",
   "pygments_lexer": "ipython3",
   "version": "3.9.7"
  }
 },
 "nbformat": 4,
 "nbformat_minor": 5
}
