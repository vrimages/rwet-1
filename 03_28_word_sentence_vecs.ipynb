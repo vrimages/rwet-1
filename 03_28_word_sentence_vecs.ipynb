{
 "cells": [
  {
   "cell_type": "code",
   "execution_count": 50,
   "id": "b685351c",
   "metadata": {},
   "outputs": [],
   "source": [
    "import json\n",
    "import math\n",
    "import spacy\n",
    "import numpy as np\n",
    "import random"
   ]
  },
  {
   "cell_type": "code",
   "execution_count": 51,
   "id": "49819dca",
   "metadata": {},
   "outputs": [],
   "source": [
    "nlp = spacy.load('en_core_web_md')"
   ]
  },
  {
   "cell_type": "code",
   "execution_count": 52,
   "id": "d693d719",
   "metadata": {},
   "outputs": [],
   "source": [
    "prob_lookup = dict(json.load(open(\"./wordfreq-en-25000-log.json\")))"
   ]
  },
  {
   "cell_type": "code",
   "execution_count": 53,
   "id": "9bd2739f",
   "metadata": {},
   "outputs": [
    {
     "data": {
      "text/plain": [
       "False"
      ]
     },
     "execution_count": 53,
     "metadata": {},
     "output_type": "execute_result"
    }
   ],
   "source": [
    "prob_lookup['cats'] > prob_lookup['dogs']"
   ]
  },
  {
   "cell_type": "code",
   "execution_count": 54,
   "id": "ab03c72a",
   "metadata": {},
   "outputs": [
    {
     "name": "stdout",
     "output_type": "stream",
     "text": [
      "Requirement already satisfied: simpleneighbors in /Users/lucaswozniak/opt/anaconda3/lib/python3.9/site-packages (0.1.0)\r\n"
     ]
    }
   ],
   "source": [
    "import sys\n",
    "!{sys.executable} -m pip install simpleneighbors"
   ]
  },
  {
   "cell_type": "code",
   "execution_count": 55,
   "id": "54746888",
   "metadata": {},
   "outputs": [
    {
     "name": "stdout",
     "output_type": "stream",
     "text": [
      "Requirement already satisfied: annoy==1.16.3 in /Users/lucaswozniak/opt/anaconda3/lib/python3.9/site-packages (1.16.3)\r\n"
     ]
    }
   ],
   "source": [
    "import sys\n",
    "!{sys.executable} -m pip install annoy==1.16.3"
   ]
  },
  {
   "cell_type": "code",
   "execution_count": 56,
   "id": "641a37b0",
   "metadata": {},
   "outputs": [],
   "source": [
    "from simpleneighbors import SimpleNeighbors"
   ]
  },
  {
   "cell_type": "code",
   "execution_count": 57,
   "id": "33c78528",
   "metadata": {},
   "outputs": [],
   "source": [
    "def vec(s):\n",
    "    return nlp.vocab[s].vector"
   ]
  },
  {
   "cell_type": "code",
   "execution_count": 58,
   "id": "ee3b0b98",
   "metadata": {},
   "outputs": [],
   "source": [
    "def meanv(vecs):\n",
    "    total = np.sum(vecs, axis=0)\n",
    "    return total / len(vecs)"
   ]
  },
  {
   "cell_type": "code",
   "execution_count": 59,
   "id": "11cb5c02",
   "metadata": {},
   "outputs": [],
   "source": [
    "lookup = SimpleNeighbors(300)\n",
    "for word in prob_lookup.keys():\n",
    "    if nlp.vocab[word].has_vector:\n",
    "        lookup.add_one(word, vec(word))\n",
    "lookup.build()"
   ]
  },
  {
   "cell_type": "code",
   "execution_count": 60,
   "id": "71feb457",
   "metadata": {},
   "outputs": [
    {
     "data": {
      "text/plain": [
       "['baby',\n",
       " 'wow',\n",
       " 'cab',\n",
       " 'cabs',\n",
       " 'dog',\n",
       " 'hound',\n",
       " 'canine',\n",
       " 'kennel',\n",
       " 'merry',\n",
       " 'cat',\n",
       " 'birthday',\n",
       " 'greetings']"
      ]
     },
     "execution_count": 60,
     "metadata": {},
     "output_type": "execute_result"
    }
   ],
   "source": [
    "lookup.nearest(meanv([vec(\"hello\"), vec(\"train\")]))"
   ]
  },
  {
   "cell_type": "code",
   "execution_count": 61,
   "id": "64de159b",
   "metadata": {},
   "outputs": [
    {
     "data": {
      "text/plain": [
       "['chef',\n",
       " 'chefs',\n",
       " 'salad',\n",
       " 'salads',\n",
       " 'platter',\n",
       " 'cheese',\n",
       " 'cheeses',\n",
       " 'pasta',\n",
       " 'alfredo',\n",
       " 'sauce',\n",
       " 'glaze',\n",
       " 'steak']"
      ]
     },
     "execution_count": 61,
     "metadata": {},
     "output_type": "execute_result"
    }
   ],
   "source": [
    "lookup.nearest(vec(\"wine\") - vec(\"alcohol\"))"
   ]
  },
  {
   "cell_type": "code",
   "execution_count": 62,
   "id": "53332657",
   "metadata": {
    "scrolled": true
   },
   "outputs": [
    {
     "data": {
      "text/plain": [
       "['php',\n",
       " 'asp',\n",
       " 'java',\n",
       " 'ps',\n",
       " 'vm',\n",
       " 'admin',\n",
       " 'pascal',\n",
       " 'db',\n",
       " 'conn',\n",
       " 'cp',\n",
       " 'mv',\n",
       " 'android']"
      ]
     },
     "execution_count": 62,
     "metadata": {},
     "output_type": "execute_result"
    }
   ],
   "source": [
    "lookup.nearest(vec(\"hello\") - vec(\"goodbye\"))"
   ]
  },
  {
   "cell_type": "code",
   "execution_count": 114,
   "id": "5ec74314",
   "metadata": {},
   "outputs": [],
   "source": [
    "original_word = \"house\"\n",
    "target_word = \"chimney\"\n",
    "factor = 0.7"
   ]
  },
  {
   "cell_type": "code",
   "execution_count": 115,
   "id": "d6d2ced9",
   "metadata": {},
   "outputs": [
    {
     "data": {
      "text/plain": [
       "'chimney'"
      ]
     },
     "execution_count": 115,
     "metadata": {},
     "output_type": "execute_result"
    }
   ],
   "source": [
    "random.choice(lookup.nearest((vec(original_word)*(1-factor)) + (vec(target_word)*factor), 5))"
   ]
  },
  {
   "cell_type": "code",
   "execution_count": 116,
   "id": "0e2312f6",
   "metadata": {},
   "outputs": [],
   "source": [
    "sent = nlp(\"I am at the library.\")"
   ]
  },
  {
   "cell_type": "code",
   "execution_count": 117,
   "id": "46100fa5",
   "metadata": {},
   "outputs": [
    {
     "data": {
      "text/plain": [
       "['so',\n",
       " 'just',\n",
       " 'it',\n",
       " 'still',\n",
       " 'myself',\n",
       " 'time',\n",
       " 'sure',\n",
       " 'really',\n",
       " 'wondering',\n",
       " 'thought',\n",
       " 'one',\n",
       " 'see']"
      ]
     },
     "execution_count": 117,
     "metadata": {},
     "output_type": "execute_result"
    }
   ],
   "source": [
    "lookup.nearest(sent.vector)"
   ]
  },
  {
   "cell_type": "code",
   "execution_count": 118,
   "id": "0cc87e33",
   "metadata": {},
   "outputs": [],
   "source": [
    "chunk_lookup = SimpleNeighbors(300)\n",
    "for chunk in doc.noun_chunks:\n",
    "    chunk_text = chunk.text.replace(\"\\n\", \" \")\n",
    "    if chunk_text not in chunk_lookup.corpus:\n",
    "        chunk_lookup.add_one(chunk_text, chunk.vector)\n",
    "chunk_lookup.build()"
   ]
  },
  {
   "cell_type": "code",
   "execution_count": 119,
   "id": "274fd0a7",
   "metadata": {},
   "outputs": [
    {
     "data": {
      "text/plain": [
       "['day',\n",
       " 'my excellent Plan',\n",
       " 'the Last Supper',\n",
       " 'night',\n",
       " 'Night',\n",
       " 'my way',\n",
       " 'my thought',\n",
       " 'this hour',\n",
       " 'this last Kusters',\n",
       " 'last week',\n",
       " 'yesterday',\n",
       " 'my walk']"
      ]
     },
     "execution_count": 119,
     "metadata": {},
     "output_type": "execute_result"
    }
   ],
   "source": [
    "chunk_lookup.nearest(nlp(\"good morning\").vector)"
   ]
  },
  {
   "cell_type": "markdown",
   "id": "99f422c9",
   "metadata": {},
   "source": [
    "Loading the 5 authors' books (Abram, Castaneda, Emezi, Kimmerer, Kusters)"
   ]
  },
  {
   "cell_type": "code",
   "execution_count": 102,
   "id": "f3905bd5",
   "metadata": {},
   "outputs": [],
   "source": [
    "doc_kusters = nlp(open(\"./kusters_mad.txt\").read())"
   ]
  },
  {
   "cell_type": "code",
   "execution_count": 103,
   "id": "a576ea3a",
   "metadata": {},
   "outputs": [],
   "source": [
    "sentence_lookup_kusters = SimpleNeighbors(300)\n",
    "for sent in doc_kusters.sents:\n",
    "    # replace linebreaks to make the output a bit more neat\n",
    "    sentence_lookup_kusters.add_one(sent.text.replace(\"\\n\", \" \"), sent.vector)\n",
    "sentence_lookup_kusters.build()"
   ]
  },
  {
   "cell_type": "code",
   "execution_count": 104,
   "id": "7ff646fa",
   "metadata": {},
   "outputs": [],
   "source": [
    "doc_emezi = nlp(open(\"./emezi_fresh.txt\").read())"
   ]
  },
  {
   "cell_type": "code",
   "execution_count": 105,
   "id": "ae653fc8",
   "metadata": {},
   "outputs": [],
   "source": [
    "sentence_lookup_emezi = SimpleNeighbors(300)\n",
    "for sent in doc_emezi.sents:\n",
    "    # replace linebreaks to make the output a bit more neat\n",
    "    sentence_lookup_emezi.add_one(sent.text.replace(\"\\n\", \" \"), sent.vector)\n",
    "sentence_lookup_emezi.build()"
   ]
  },
  {
   "cell_type": "code",
   "execution_count": 106,
   "id": "88f6043b",
   "metadata": {},
   "outputs": [],
   "source": [
    "doc_abram = nlp(open(\"./abram_spell.txt\").read())"
   ]
  },
  {
   "cell_type": "code",
   "execution_count": 107,
   "id": "29fe1b1d",
   "metadata": {},
   "outputs": [],
   "source": [
    "sentence_lookup_abram = SimpleNeighbors(300)\n",
    "for sent in doc_abram.sents:\n",
    "    # replace linebreaks to make the output a bit more neat\n",
    "    sentence_lookup_abram.add_one(sent.text.replace(\"\\n\", \" \"), sent.vector)\n",
    "sentence_lookup_abram.build()"
   ]
  },
  {
   "cell_type": "code",
   "execution_count": 108,
   "id": "a2a14efb",
   "metadata": {},
   "outputs": [],
   "source": [
    "doc_castaneda = nlp(open(\"./castaneda_ixtlan.txt\").read())"
   ]
  },
  {
   "cell_type": "code",
   "execution_count": 109,
   "id": "67a50c7e",
   "metadata": {},
   "outputs": [],
   "source": [
    "sentence_lookup_castaneda = SimpleNeighbors(300)\n",
    "for sent in doc_castaneda.sents:\n",
    "    # replace linebreaks to make the output a bit more neat\n",
    "    sentence_lookup_castaneda.add_one(sent.text.replace(\"\\n\", \" \"), sent.vector)\n",
    "sentence_lookup_castaneda.build()"
   ]
  },
  {
   "cell_type": "code",
   "execution_count": 110,
   "id": "d2a48a2c",
   "metadata": {},
   "outputs": [],
   "source": [
    "doc_kimmerer = nlp(open(\"./kimmerer_sweet.txt\").read())"
   ]
  },
  {
   "cell_type": "code",
   "execution_count": 111,
   "id": "81781cb3",
   "metadata": {},
   "outputs": [],
   "source": [
    "sentence_lookup_kimmerer = SimpleNeighbors(300)\n",
    "for sent in doc_kimmerer.sents:\n",
    "    # replace linebreaks to make the output a bit more neat\n",
    "    sentence_lookup_kimmerer.add_one(sent.text.replace(\"\\n\", \" \"), sent.vector)\n",
    "sentence_lookup_kimmerer.build()"
   ]
  },
  {
   "cell_type": "markdown",
   "id": "eea272fb",
   "metadata": {},
   "source": [
    "The interview begins"
   ]
  },
  {
   "cell_type": "markdown",
   "id": "99852823",
   "metadata": {},
   "source": [
    "Question 1: What do you think dreams mean?"
   ]
  },
  {
   "cell_type": "code",
   "execution_count": 130,
   "id": "d97a4f7a",
   "metadata": {},
   "outputs": [
    {
     "name": "stdout",
     "output_type": "stream",
     "text": [
      "Abram: “The most you should say is that you’ll try to catch a fish, or better yet, don’t say anything at all.\n"
     ]
    }
   ],
   "source": [
    "print(\"Abram:\", random.choice(sentence_lookup_abram.nearest(nlp(\"What do you think dreams mean\").vector)))"
   ]
  },
  {
   "cell_type": "code",
   "execution_count": 131,
   "id": "d23f7717",
   "metadata": {},
   "outputs": [
    {
     "name": "stdout",
     "output_type": "stream",
     "text": [
      "Castaneda: What do you think we can do about it?\n"
     ]
    }
   ],
   "source": [
    "print(\"Castaneda:\", random.choice(sentence_lookup_castaneda.nearest(nlp(\"What do you think dreams mean\").vector)))"
   ]
  },
  {
   "cell_type": "code",
   "execution_count": 132,
   "id": "99c4ddbb",
   "metadata": {},
   "outputs": [
    {
     "name": "stdout",
     "output_type": "stream",
     "text": [
      "Emezi:  “How can you not know that?\n"
     ]
    }
   ],
   "source": [
    "print(\"Emezi:\", random.choice(sentence_lookup_emezi.nearest(nlp(\"What do you think dreams mean\").vector)))"
   ]
  },
  {
   "cell_type": "code",
   "execution_count": 133,
   "id": "9b0a7c14",
   "metadata": {},
   "outputs": [
    {
     "name": "stdout",
     "output_type": "stream",
     "text": [
      "Kimmerer: Do you think the ducks would stop here if we took it all?”\n"
     ]
    }
   ],
   "source": [
    "print(\"Kimmerer:\", random.choice(sentence_lookup_kimmerer.nearest(nlp(\"What do you think dreams mean\").vector)))"
   ]
  },
  {
   "cell_type": "code",
   "execution_count": 134,
   "id": "03140fb5",
   "metadata": {},
   "outputs": [
    {
     "name": "stdout",
     "output_type": "stream",
     "text": [
      "Kusters: Things must do what they do.\n"
     ]
    }
   ],
   "source": [
    "print(\"Kusters:\", random.choice(sentence_lookup_kusters.nearest(nlp(\"What do you think dreams mean\").vector)))"
   ]
  },
  {
   "cell_type": "markdown",
   "id": "86451f74",
   "metadata": {},
   "source": [
    "Question 2: What’s the strangest thought you ever had?"
   ]
  },
  {
   "cell_type": "code",
   "execution_count": 159,
   "id": "97d3bfb2",
   "metadata": {},
   "outputs": [
    {
     "name": "stdout",
     "output_type": "stream",
     "text": [
      "Abram: You know why their evening call is so sad?\n"
     ]
    }
   ],
   "source": [
    "print(\"Abram:\", random.choice(sentence_lookup_abram.nearest(nlp(\"What’s the strangest thought you ever had\").vector)))"
   ]
  },
  {
   "cell_type": "code",
   "execution_count": 160,
   "id": "70d8a0af",
   "metadata": {},
   "outputs": [
    {
     "name": "stdout",
     "output_type": "stream",
     "text": [
      "Castaneda: \"The way we ended up talking about it was because I said that to ask questions about one's past is a bunch of crap.\n"
     ]
    }
   ],
   "source": [
    "print(\"Castaneda:\", random.choice(sentence_lookup_castaneda.nearest(nlp(\"What’s the strangest thought you ever had\").vector)))"
   ]
  },
  {
   "cell_type": "code",
   "execution_count": 161,
   "id": "98f310f1",
   "metadata": {},
   "outputs": [
    {
     "name": "stdout",
     "output_type": "stream",
     "text": [
      "Emezi: But I came into the world the way I did because of Soren, and whatever chance I had of being anything else was lost in that.\n"
     ]
    }
   ],
   "source": [
    "print(\"Emezi:\", random.choice(sentence_lookup_emezi.nearest(nlp(\"What’s the strangest thought you ever had\").vector)))"
   ]
  },
  {
   "cell_type": "code",
   "execution_count": 162,
   "id": "12d86da9",
   "metadata": {},
   "outputs": [
    {
     "name": "stdout",
     "output_type": "stream",
     "text": [
      "Kimmerer: “That’s what my mother would say when we spoiled splints.”\n"
     ]
    }
   ],
   "source": [
    "print(\"Kimmerer:\", random.choice(sentence_lookup_kimmerer.nearest(nlp(\"What’s the strangest thought you ever had\").vector)))"
   ]
  },
  {
   "cell_type": "code",
   "execution_count": 163,
   "id": "13fac116",
   "metadata": {},
   "outputs": [
    {
     "name": "stdout",
     "output_type": "stream",
     "text": [
      "Kusters: It was just like a movie set that was already pointing toward the future, to the book I was going write.\n"
     ]
    }
   ],
   "source": [
    "print(\"Kusters:\", random.choice(sentence_lookup_kusters.nearest(nlp(\"What’s the strangest thought you ever had\").vector)))"
   ]
  },
  {
   "cell_type": "markdown",
   "id": "f5bc4e49",
   "metadata": {},
   "source": [
    "Question 3: Do you believe the English language describes reality well?"
   ]
  },
  {
   "cell_type": "code",
   "execution_count": 165,
   "id": "9f0d2506",
   "metadata": {},
   "outputs": [
    {
     "name": "stdout",
     "output_type": "stream",
     "text": [
      "Abram: Plato provides a remarkably precise description of this new situation when he has Socrates state, in the Phaedrus, that written words “seem to talk to you as though they were intelligent, but if you ask them anything about what they say, from a desire to be instructed, they go on telling you just the same thing forever” (Phaedrus, 275d).\n"
     ]
    }
   ],
   "source": [
    "print(\"Abram:\", random.choice(sentence_lookup_abram.nearest(nlp(\"Do you believe the English language describes reality well\").vector)))"
   ]
  },
  {
   "cell_type": "code",
   "execution_count": 166,
   "id": "967b23f8",
   "metadata": {},
   "outputs": [
    {
     "name": "stdout",
     "output_type": "stream",
     "text": [
      "Castaneda: \"Only when someone else knows that does it become personal history.\n"
     ]
    }
   ],
   "source": [
    "print(\"Castaneda:\", random.choice(sentence_lookup_castaneda.nearest(nlp(\"Do you believe the English language describes reality well\").vector)))"
   ]
  },
  {
   "cell_type": "code",
   "execution_count": 167,
   "id": "49a0719b",
   "metadata": {},
   "outputs": [
    {
     "name": "stdout",
     "output_type": "stream",
     "text": [
      "Emezi: “The problem is that when you have saints, old-school saints, trying to communicate with you, they don’t understand.\n"
     ]
    }
   ],
   "source": [
    "print(\"Emezi:\", random.choice(sentence_lookup_emezi.nearest(nlp(\"Do you believe the English language describes reality well\").vector)))"
   ]
  },
  {
   "cell_type": "code",
   "execution_count": 168,
   "id": "e7485bc9",
   "metadata": {},
   "outputs": [
    {
     "name": "stdout",
     "output_type": "stream",
     "text": [
      "Kimmerer: It’s too beautiful for English to explain.”\n"
     ]
    }
   ],
   "source": [
    "print(\"Kimmerer:\", random.choice(sentence_lookup_kimmerer.nearest(nlp(\"Do you believe the English language describes reality well\").vector)))"
   ]
  },
  {
   "cell_type": "code",
   "execution_count": 169,
   "id": "c66f3cc0",
   "metadata": {},
   "outputs": [
    {
     "name": "stdout",
     "output_type": "stream",
     "text": [
      "Kusters: In the same way that “normal people” know whether they’re hearing or seeing something, people who have visions or hallucinations usually know how to distinguish between visions and “real” observations (Jannemiek Tukker in a personal remark).\n"
     ]
    }
   ],
   "source": [
    "print(\"Kusters:\", random.choice(sentence_lookup_kusters.nearest(nlp(\"Do you believe the English language describes reality well\").vector)))"
   ]
  },
  {
   "cell_type": "markdown",
   "id": "3be8a2a3",
   "metadata": {},
   "source": [
    "Question 4: What would you recommend to a new student of perception and independent thought?"
   ]
  },
  {
   "cell_type": "code",
   "execution_count": 170,
   "id": "3e9921ad",
   "metadata": {},
   "outputs": [
    {
     "name": "stdout",
     "output_type": "stream",
     "text": [
      "Abram: Plato provides a remarkably precise description of this new situation when he has Socrates state, in the Phaedrus, that written words “seem to talk to you as though they were intelligent, but if you ask them anything about what they say, from a desire to be instructed, they go on telling you just the same thing forever” (Phaedrus, 275d).\n"
     ]
    }
   ],
   "source": [
    "print(\"Abram:\", random.choice(sentence_lookup_abram.nearest(nlp(\"What would you recommend to a new student of perception and independent thought\").vector)))"
   ]
  },
  {
   "cell_type": "code",
   "execution_count": 171,
   "id": "171a255f",
   "metadata": {},
   "outputs": [
    {
     "name": "stdout",
     "output_type": "stream",
     "text": [
      "Castaneda: But you cannot make one until you have had a vision of it in dreaming.\n"
     ]
    }
   ],
   "source": [
    "print(\"Castaneda:\", random.choice(sentence_lookup_castaneda.nearest(nlp(\"What would you recommend to a new student of perception and independent thought\").vector)))"
   ]
  },
  {
   "cell_type": "code",
   "execution_count": 172,
   "id": "05f60914",
   "metadata": {},
   "outputs": [
    {
     "name": "stdout",
     "output_type": "stream",
     "text": [
      "Emezi:  But it was not the using of humans that alarmed the Ada enough to try and guide us with a code.\n"
     ]
    }
   ],
   "source": [
    "print(\"Emezi:\", random.choice(sentence_lookup_emezi.nearest(nlp(\"What would you recommend to a new student of perception and independent thought\").vector)))"
   ]
  },
  {
   "cell_type": "code",
   "execution_count": 173,
   "id": "8e969caf",
   "metadata": {},
   "outputs": [
    {
     "name": "stdout",
     "output_type": "stream",
     "text": [
      "Kimmerer: Shouldn’t students devoted to a profession in health see this firsthand?\n"
     ]
    }
   ],
   "source": [
    "print(\"Kimmerer:\", random.choice(sentence_lookup_kimmerer.nearest(nlp(\"What would you recommend to a new student of perception and independent thought\").vector)))"
   ]
  },
  {
   "cell_type": "code",
   "execution_count": 174,
   "id": "4e4880ff",
   "metadata": {},
   "outputs": [
    {
     "name": "stdout",
     "output_type": "stream",
     "text": [
      "Kusters: Even in psychoanalysis, the school of thought that claims to be sensitive to subjective experience, there is something called a “reality principle” that mad people are said to be unable to comply with.\n"
     ]
    }
   ],
   "source": [
    "print(\"Kusters:\", random.choice(sentence_lookup_kusters.nearest(nlp(\"What would you recommend to a new student of perception and independent thought\").vector)))"
   ]
  },
  {
   "cell_type": "markdown",
   "id": "a6298f76",
   "metadata": {},
   "source": [
    "Question 5: How does the future of humanity look?"
   ]
  },
  {
   "cell_type": "code",
   "execution_count": 175,
   "id": "b5ad1ec0",
   "metadata": {},
   "outputs": [
    {
     "name": "stdout",
     "output_type": "stream",
     "text": [
      "Abram: In his last work Merleau-Ponty describes the relation between the perceptual world and the world of our supposedly incorporeal ideals and thoughts: “it is by borrowing from the world’s structure that the universe of truth and of thought is constructed for us.”34\n"
     ]
    }
   ],
   "source": [
    "print(\"Abram:\", random.choice(sentence_lookup_abram.nearest(nlp(\"How does the future of humanity look\").vector)))"
   ]
  },
  {
   "cell_type": "code",
   "execution_count": 176,
   "id": "b8afdc88",
   "metadata": {},
   "outputs": [
    {
     "name": "stdout",
     "output_type": "stream",
     "text": [
      "Castaneda: Don Juan's precondition for \"stopping the world\" was that one had to be convinced; in other words, one had to learn the new description in a total sense, for the purpose of pitting it against the old one, and in that way break the dogmatic certainty, which we all share, that the validity of our perceptions, or our reality of the world, is not to be questioned.\n"
     ]
    }
   ],
   "source": [
    "print(\"Castaneda:\", random.choice(sentence_lookup_castaneda.nearest(nlp(\"How does the future of humanity look\").vector)))"
   ]
  },
  {
   "cell_type": "code",
   "execution_count": 177,
   "id": "a562b72e",
   "metadata": {},
   "outputs": [
    {
     "name": "stdout",
     "output_type": "stream",
     "text": [
      "Emezi: That would contaminate the human world—bodies are not meant to remember things from the other side.\n"
     ]
    }
   ],
   "source": [
    "print(\"Emezi:\", random.choice(sentence_lookup_emezi.nearest(nlp(\"How does the future of humanity look\").vector)))"
   ]
  },
  {
   "cell_type": "code",
   "execution_count": 178,
   "id": "d742612b",
   "metadata": {},
   "outputs": [
    {
     "name": "stdout",
     "output_type": "stream",
     "text": [
      "Kimmerer:  People of Corn, People of Light The story of our relationship to the earth is written more truthfully on the land than on the page.\n"
     ]
    }
   ],
   "source": [
    "print(\"Kimmerer:\", random.choice(sentence_lookup_kimmerer.nearest(nlp(\"How does the future of humanity look\").vector)))"
   ]
  },
  {
   "cell_type": "code",
   "execution_count": 179,
   "id": "c2c134ed",
   "metadata": {},
   "outputs": [
    {
     "name": "stdout",
     "output_type": "stream",
     "text": [
      "Kusters:  What can psychiatry tell us about the experience of hypo- and hyperreality?\n"
     ]
    }
   ],
   "source": [
    "print(\"Kusters:\", random.choice(sentence_lookup_kusters.nearest(nlp(\"How does the future of humanity look\").vector)))"
   ]
  }
 ],
 "metadata": {
  "kernelspec": {
   "display_name": "Python 3 (ipykernel)",
   "language": "python",
   "name": "python3"
  },
  "language_info": {
   "codemirror_mode": {
    "name": "ipython",
    "version": 3
   },
   "file_extension": ".py",
   "mimetype": "text/x-python",
   "name": "python",
   "nbconvert_exporter": "python",
   "pygments_lexer": "ipython3",
   "version": "3.9.7"
  }
 },
 "nbformat": 4,
 "nbformat_minor": 5
}
