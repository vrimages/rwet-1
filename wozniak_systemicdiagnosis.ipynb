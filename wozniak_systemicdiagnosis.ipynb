{
 "cells": [
  {
   "cell_type": "code",
   "execution_count": 1,
   "id": "758ab856",
   "metadata": {},
   "outputs": [],
   "source": [
    "from transformers import pipeline, AutoModelForCausalLM, AutoTokenizer"
   ]
  },
  {
   "cell_type": "code",
   "execution_count": 2,
   "id": "5a13f45d",
   "metadata": {},
   "outputs": [],
   "source": [
    "tokenizer = AutoTokenizer.from_pretrained('distilgpt2')\n",
    "model = AutoModelForCausalLM.from_pretrained('distilgpt2')"
   ]
  },
  {
   "cell_type": "code",
   "execution_count": 3,
   "id": "a6b7c8d9",
   "metadata": {},
   "outputs": [],
   "source": [
    "generator = pipeline('text-generation', model=model, tokenizer=tokenizer)"
   ]
  },
  {
   "cell_type": "code",
   "execution_count": 4,
   "id": "4bfe5baa",
   "metadata": {},
   "outputs": [
    {
     "name": "stderr",
     "output_type": "stream",
     "text": [
      "Setting `pad_token_id` to `eos_token_id`:50256 for open-end generation.\n"
     ]
    },
    {
     "data": {
      "text/plain": [
       "[{'generated_text': 'The mental health crisis in Amerca has been in the spotlight for over 20 years, and one is an ongoing battle that has intensified within the Republican Party since it became law. The fact that the GOP cannot come out against such a bill to bring a'}]"
      ]
     },
     "execution_count": 4,
     "metadata": {},
     "output_type": "execute_result"
    }
   ],
   "source": [
    "generator(\"The mental health crisis in Amerca has been\")"
   ]
  },
  {
   "cell_type": "code",
   "execution_count": 5,
   "id": "31f9cf0b",
   "metadata": {},
   "outputs": [
    {
     "name": "stderr",
     "output_type": "stream",
     "text": [
      "Setting `pad_token_id` to `eos_token_id`:50256 for open-end generation.\n"
     ]
    },
    {
     "data": {
      "text/plain": [
       "[{'generated_text': 'The time has come for a social movement to address the needs of people with mental illness across the world – the people with autism, attention deficit hyperactivity disorder, obsessive-compulsive disorder, anxiety, sleep disorders and depression (including bipolar disorder), as'}]"
      ]
     },
     "execution_count": 5,
     "metadata": {},
     "output_type": "execute_result"
    }
   ],
   "source": [
    "generator(\"The time has come for a social movement to address the needs of people with mental illness across\")"
   ]
  },
  {
   "cell_type": "code",
   "execution_count": 20,
   "id": "353f3ca1",
   "metadata": {},
   "outputs": [
    {
     "name": "stderr",
     "output_type": "stream",
     "text": [
      "Setting `pad_token_id` to `eos_token_id`:50256 for open-end generation.\n"
     ]
    },
    {
     "name": "stdout",
     "output_type": "stream",
     "text": [
      "The mental health crisis has become the civil rights issue of our time. Someday we can begin discussing this issue with other leaders. We have discussed how many leaders it would take and how best to support this movement. We have discussed a national policy framework. How does the public get a glimpse into the mental health problem?\n",
      "\n",
      "\n",
      "\n",
      "Our understanding of mental health is the same: the government has a broad range of interventions and interventions that we should consider. This includes medical screenings, community outreach and\n"
     ]
    }
   ],
   "source": [
    "print(generator(\"The mental health crisis has become the civil rights issue of our time. Someday we\", max_length=100)[0]['generated_text'])"
   ]
  },
  {
   "cell_type": "code",
   "execution_count": null,
   "id": "fea6662b",
   "metadata": {},
   "outputs": [],
   "source": []
  },
  {
   "cell_type": "code",
   "execution_count": 6,
   "id": "b8aaf60a",
   "metadata": {},
   "outputs": [
    {
     "name": "stdout",
     "output_type": "stream",
     "text": [
      "huggingface/tokenizers: The current process just got forked, after parallelism has already been used. Disabling parallelism to avoid deadlocks...\n",
      "To disable this warning, you can either:\n",
      "\t- Avoid using `tokenizers` before the fork if possible\n",
      "\t- Explicitly set the environment variable TOKENIZERS_PARALLELISM=(true | false)\n",
      "Collecting markovify\n",
      "  Downloading markovify-0.9.4.tar.gz (27 kB)\n",
      "Requirement already satisfied: unidecode in /Users/lucaswozniak/opt/anaconda3/lib/python3.9/site-packages (from markovify) (1.2.0)\n",
      "Building wheels for collected packages: markovify\n",
      "  Building wheel for markovify (setup.py) ... \u001b[?25ldone\n",
      "\u001b[?25h  Created wheel for markovify: filename=markovify-0.9.4-py3-none-any.whl size=18628 sha256=a1bc38bb4c2bec2012f0c12c651eb98e01318f1db9e0aece3172098e17ff0e8f\n",
      "  Stored in directory: /Users/lucaswozniak/Library/Caches/pip/wheels/76/0a/ab/8727d219981e57e6036316dd2ec2037e61ccea0c016f7ae0c1\n",
      "Successfully built markovify\n",
      "Installing collected packages: markovify\n",
      "Successfully installed markovify-0.9.4\n"
     ]
    }
   ],
   "source": [
    "import sys\n",
    "!{sys.executable} -m pip install markovify"
   ]
  },
  {
   "cell_type": "code",
   "execution_count": 11,
   "id": "9080e745",
   "metadata": {},
   "outputs": [],
   "source": [
    "text_a = open(\"emezi_fresh.txt\").read()"
   ]
  },
  {
   "cell_type": "code",
   "execution_count": 15,
   "id": "a2a937fd",
   "metadata": {},
   "outputs": [],
   "source": [
    "text_b = open(\"abram_spell.txt\").read()"
   ]
  },
  {
   "cell_type": "code",
   "execution_count": 55,
   "id": "ad7d29e8",
   "metadata": {},
   "outputs": [],
   "source": [
    "text_c = \"The mental health crisis has become the civil rights issue of our time. Someday we will look back at our incarceration and exclusion of people\""
   ]
  },
  {
   "cell_type": "code",
   "execution_count": 12,
   "id": "5e4af593",
   "metadata": {},
   "outputs": [],
   "source": [
    "import markovify"
   ]
  },
  {
   "cell_type": "code",
   "execution_count": 13,
   "id": "6b5b8fd6",
   "metadata": {},
   "outputs": [],
   "source": [
    "generator_a = markovify.Text(text_a)"
   ]
  },
  {
   "cell_type": "code",
   "execution_count": 14,
   "id": "7e243168",
   "metadata": {},
   "outputs": [
    {
     "name": "stdout",
     "output_type": "stream",
     "text": [
      "But I loved her because of the lotus.\n"
     ]
    }
   ],
   "source": [
    "print(generator_a.make_short_sentence(40, tries=100))"
   ]
  },
  {
   "cell_type": "code",
   "execution_count": 267,
   "id": "df64a932",
   "metadata": {},
   "outputs": [],
   "source": [
    "generator_b = markovify.Text(text_b, state_size=2)\n",
    "#combo = markovify.combine([generator_a, generator_b], [0.5, 0.5])"
   ]
  },
  {
   "cell_type": "code",
   "execution_count": 268,
   "id": "c29f548d",
   "metadata": {},
   "outputs": [
    {
     "name": "stdout",
     "output_type": "stream",
     "text": [
      "Knowing how to orient in the village, Basso began to swing between these as on a cold day.\n"
     ]
    }
   ],
   "source": [
    "print(generator_b.make_sentence())"
   ]
  },
  {
   "cell_type": "code",
   "execution_count": 269,
   "id": "a82b4cd5",
   "metadata": {},
   "outputs": [
    {
     "name": "stdout",
     "output_type": "stream",
     "text": [
      "The forest birds whirring and chattering as the physicist analyzing data is still turned toward the land, its political and economic institutions not aligned with earthly realities are not distinguishable.\n"
     ]
    }
   ],
   "source": [
    "print(generator_b.make_short_sentence(300, test_output=False))"
   ]
  },
  {
   "cell_type": "code",
   "execution_count": 17,
   "id": "0bf7b7ef",
   "metadata": {},
   "outputs": [
    {
     "name": "stdout",
     "output_type": "stream",
     "text": [
      "The Ada named him and he would not compete with her on the day she was a sound artist who lived on earth, a felt reciprocity curiously analogous to the pool she’d just made.\n"
     ]
    }
   ],
   "source": [
    "print(combo.make_sentence())"
   ]
  },
  {
   "cell_type": "code",
   "execution_count": 238,
   "id": "bdfa6b2a",
   "metadata": {},
   "outputs": [],
   "source": [
    "generator_c = markovify.Text(text_c, state_size=1)"
   ]
  },
  {
   "cell_type": "code",
   "execution_count": 239,
   "id": "bae4bca3",
   "metadata": {},
   "outputs": [
    {
     "name": "stdout",
     "output_type": "stream",
     "text": [
      "Someday we will look back at our incarceration and exclusion of our incarceration and exclusion of people\n"
     ]
    }
   ],
   "source": [
    "print(generator_c.make_sentence())"
   ]
  },
  {
   "cell_type": "code",
   "execution_count": null,
   "id": "aa042aa6",
   "metadata": {},
   "outputs": [],
   "source": []
  },
  {
   "cell_type": "code",
   "execution_count": 62,
   "id": "6a4626d6",
   "metadata": {},
   "outputs": [],
   "source": [
    "import spacy"
   ]
  },
  {
   "cell_type": "code",
   "execution_count": 70,
   "id": "eeb3d5cf",
   "metadata": {},
   "outputs": [],
   "source": [
    "import random"
   ]
  },
  {
   "cell_type": "code",
   "execution_count": 71,
   "id": "498527bb",
   "metadata": {},
   "outputs": [],
   "source": [
    "nlp = spacy.load('en_core_web_md')"
   ]
  },
  {
   "cell_type": "code",
   "execution_count": 72,
   "id": "4a0c294e",
   "metadata": {},
   "outputs": [],
   "source": [
    "text = open(\"kusters_mad.txt\").read()"
   ]
  },
  {
   "cell_type": "code",
   "execution_count": 73,
   "id": "e468587f",
   "metadata": {},
   "outputs": [],
   "source": [
    "doc = nlp(text)"
   ]
  },
  {
   "cell_type": "code",
   "execution_count": 74,
   "id": "728fd430",
   "metadata": {},
   "outputs": [],
   "source": [
    "words = [w for w in list(doc) if w.is_alpha]"
   ]
  },
  {
   "cell_type": "code",
   "execution_count": 75,
   "id": "de05b157",
   "metadata": {},
   "outputs": [],
   "source": [
    "noun_chunks = list(doc.noun_chunks)"
   ]
  },
  {
   "cell_type": "code",
   "execution_count": 155,
   "id": "e0f67d75",
   "metadata": {},
   "outputs": [],
   "source": [
    "entities = list(doc.ents)"
   ]
  },
  {
   "cell_type": "code",
   "execution_count": 183,
   "id": "b97320a0",
   "metadata": {},
   "outputs": [],
   "source": [
    "nouns = [w for w in words if w.pos_ == \"NOUN\"]"
   ]
  },
  {
   "cell_type": "code",
   "execution_count": 184,
   "id": "38d281f5",
   "metadata": {},
   "outputs": [],
   "source": [
    "verbs = [w for w in words if w.pos_ == \"VERB\"]"
   ]
  },
  {
   "cell_type": "code",
   "execution_count": 185,
   "id": "96bb2a25",
   "metadata": {},
   "outputs": [],
   "source": [
    "adjectives = [w for w in words if w.pos_ == \"ADJ\"]"
   ]
  },
  {
   "cell_type": "code",
   "execution_count": 186,
   "id": "be2aa6b8",
   "metadata": {},
   "outputs": [],
   "source": [
    "adverbs = [w for w in words if w.pos_ == \"ADV\"]"
   ]
  },
  {
   "cell_type": "code",
   "execution_count": 187,
   "id": "e5901941",
   "metadata": {},
   "outputs": [],
   "source": [
    "noun_list_20 = []"
   ]
  },
  {
   "cell_type": "code",
   "execution_count": 188,
   "id": "7cfcec91",
   "metadata": {},
   "outputs": [],
   "source": [
    "verb_list_20 = []"
   ]
  },
  {
   "cell_type": "code",
   "execution_count": 189,
   "id": "57af1903",
   "metadata": {},
   "outputs": [],
   "source": [
    "adj_list_20 = []"
   ]
  },
  {
   "cell_type": "code",
   "execution_count": 190,
   "id": "f620fe55",
   "metadata": {},
   "outputs": [],
   "source": [
    "adv_list_20 = []"
   ]
  },
  {
   "cell_type": "code",
   "execution_count": 219,
   "id": "a5b64e04",
   "metadata": {},
   "outputs": [
    {
     "name": "stdout",
     "output_type": "stream",
     "text": [
      "[Cogitating, Created, reserved, reserved, Created, reserved, Setting, offers, considers, determined, experienced, plumb, demonstrate, go, shining, enabling, see, glistening, discuss, substantiate, presenting, making, look, happen, use, row, enter, examine, scattered, show, work, doing, provide, lay, follow, contains, creeps, causes, regard, fall, disappear, become, comes, face, contaminated, drawn, turns, referred, possessed, vitalizes, lays, Created, reserved, cut, travel, rediscover, think, sees, has, do, seem, say, think, show, happens, reflect, happens, obsess, cogitate, Let, begin, regard, wrote, refer, Writing, says, consists, makes, talking, heightened, says, shut, turn, describes, included, accounts, writes, awakened, awaken, do, know, is, remaining, used, claimed, goes, contradict, Created, reserved, shared, happens, approach, going, is, piercing, thrusts, conflicting, is, beaten, dismissed, defeated, contend, insist, understand, analyze, means, live, come, experienced, experienced, addressing, examine, described, call, analyze, called, used, encompassing, comprises, lives, get, done, have, happened, concocted, mean, lying, made, play, judge, tell, tell, engaging, consider, experience, pay, thematize, analyze, know, go, conclude, is, speaking, placing, answered, put, exaggerated, claims, experience, Created, reserved, hidden, understood, occurring, get, get, play, has, say, has, do, needed, allows, asking, means, experience, bringing, studying, come, recognize, overlap, use, analyze, understand, show, help, understand, call, refers, having, do, obliged, allowed, regarded, consists, consists, take, granted, reflect, wonder, fall, imagine, has, do, begin, wonder, fall, thinking, do, rule, explain, falling, making, see, falling, has, do, see, think, know, falling, means, fall, getting, speaking, have, imagine, falling, see, know, categorize, Created, reserved, flying, lay, tweet, see, know, called, appear, gives, doubt, see, take, is, doubt, see, answered, depending, were, see, known, say, say, see, think, seen, compare, seems, present, living, made, seems, become, raises, seem, have, have, imply, experienced, becomes, involved, flying, suspected, doubt, arise, writes, occurs, is, distorting, used, describe, accepted, arriving, simulated, doubt, supposed, hope, help, reach, compare, falling, doubt, articulated, occur, caught, claim, tearing, blowing, Created, reserved, involved, surround, makes, following, appeals, involves, dismissed, observe, overwhelms, says, viewed, asserted, regarding, crashes, is, addressed, doubted, decreases, take, determined, depend, look, drops, depends, see, Watching, seeing, seeing, put, say, see, see, led, added, say, depends, perceive, experience, sense, depend, given, felt, having, given, celebrate, allowed, concerning, look, experience, recognizes, describing, possess, has, passing, look, lasting, keep, bumping, appear, is, created, say, interpret, Created, reserved, tolerate, addresses, recognized, seen, interpreted, contain, agree, take, confirmed, regarded, refer, look, seem, knows, uses, having, hearing, interpreting, considered, known, see, think, understood, thrust, know, seeing, connected, speaking, are, falling, are, agreed, see, evoked, see, applied, made, exist, sing, ask, existing, know, made, differentiate, taking, expect, happen, occur, say, disagree, took, happen, dispute, unchanging, happened, depend, known, is, Created, reserved, dated, exist, verified, happened, derive, has, rely, has, sustain, seek, happened, look, remembered, have, trust, do, becomes, back, gone, adheres, going, exist, arrives, run, come, has, happen, take, says, means, focus, influence, take, makes, Seen, belongs, expressing, dates, have, take, granted, determined, experienced, has, existed, cease, exist, followed, given, deduced, born, die, born, experienced, used, distinguish, dreaming, appear, disappear, must, Created, reserved, be, according, writes, find, sleeping, connect, unites, happen, appeared, disappeared, do, see, know, came, whither, went, deem, formed, form, perceive, know, proceed, appeared, connect, have, assured, occur, waking, ensures, live, comprises, connected, see, arise, disappear, connects, describes, appear, is, arise, regard, have, become, inserted, According, remember, linked, consisting, passed, happening, say, used, imagine, reach, reached, deemed, means, follows, means, according, possesses, presumes, is, exist, known, remain, understood, stemming, result, According, Created, reserved, possess, having, basing, understood, says, suffering, going, understood, changed, continue, posited, seem, hold, point, undergo, experienced, seems, occur, regarded, use, determine, happened, have, regard, construct, taking, have, seem, standardize, locate, occurs, has, preceded, baffles, try, connect, understand, wake, recognize, start, happening, try, understand, work, think, dreaming, discussed, constitute, determined, call, located, interwoven, thread, reaches, permits, wrote, called, Created, reserved, maintained, see, cloaked, called, examined, placed, forgotten, denied, happens, shift, causing, shift, becomes, results, remain, argues, exist, determines, exist, occur, finds, determined, experiences, dictated, have, leads, leads, discuss, based, look, show, strengthen, weaken, marked, make, says, confronted, discovered, made, discovered, seemed, known, had, convinced, prove, see, keep, thrust, ascertain, sees, worn, have, do, happens, has, Created, reserved, escaping, seems, Denouements, taking, becoming, changed, describe, interpreted, formulated, discovered, take, forces, experienced, persecuted, Enlightened, see, implies, compelled, resist, take, arm, make, let, dictated, becomes, locked, disappears, experiences, given, do, Falling, take, take, granted, do, do, is, make, see, waving, lurching, happening, writes, saw, help, attributing, sees, zooming, fly, fly, supposed, fly, ordained, gives, leads, made, known, discussed, respond, comes, follows, italicized, experienced, experience, Created, reserved, gained, appear, appear, is, created, existed, driven, expect, predict, sit, close, sleep, appears, prevent, sleeping, spread, happens, happen, driven, done, comply, do, dictated, walking, smiles, gives, gives, determined, become, play, escaped, exhibit, underlies, see, wrote, known, discussed, includes, moved, talking, gesticulating, rising, write, broken, coming, heating, became, ran, circled, pealed, seemed, stop, hold, seemed, occur, seem, lose, obey, give, fixed, makes, makes, puts, becomes, fly, according, decided, comes, determined, predestined, are, happening, happened, going, happen, is, is, are, is, Created, reserved, applies, sleeping, waking, eating, going, gets, sees, become, walking, becomes, Watching, experienced, see, cover, Taking, recognizes, finds, plunged, see, returns, is, happen, comes, brings, see, revolve, see, revolves, converge, seeing, wrote, running, goes, tells, unmoving, experienced, describes, returning, offer, keeps, revolving, amount, reflected, arise, see, writes, were, see, expanding, had, came, had, called, locked, had, trying, communicate, seemed, scared, make, playing, see, sensing, evaporates, seem, connected, become, seems, see, discussing, Created, reserved, mean, Let, look, comparing, experienced, is, matter, writes, looks, following, notice, written, looks, interlaced, loves, see, revealed, search, find, fastened, displays, committing, return, experienced, bordering, discuss, clarify, have, induced, qualify, comes, have, caused, appear, seem, qualifies, eased, creates, play, associate, created, think, create, think, invent, argue, create, thought, mean, say, mean, experience, remember, consist, ask, caused, appear, deny, thought, create, becomes, inject, drawn, distinguished, argue, distinguish, make, fail, leads, believe, Created, reserved, based, alleged, see, says, inhabited, known, crossed, live, writes, refer, describe, reduced, experienced, understood, involve, involve, doubt, seems, result, describes, believes, live, talk, reflect, describes, made, following, get, need, connected, becomes, has, know, conduct, has, lives, governing, does, have, goes, supported, missing, defined, grasp, tells, know, live, speak, think, makes, think, speak, act, have, underlie, says, talking, figure, talking, come, see, missing, feel, feel, have, have, learn, take, granted, ends, begins, doubting, Created, reserved, remains, see, raging, goes, involves, rise, exist, depend, think, thinking, thought, see, exist, look, turns, quotes, began, turned, had, became, turned, found, stop, thinking, start, doubting, live, speaks, called, note, leads, commented, make, called, known, indicate, used, is, indicating, speaking, say, say, find, disappears, replaced, look, present, creates, covers, exists, means, made, says, shifting, slips, leaving, tasted, watching, based, seen, realizing, brings, says, see, changed, see, exist, compare, described, Created, reserved, experienced, think, landed, conceived, regarded, corresponds, experienced, has, happen, crack, do, standing, face, revealed, see, has, do, relates, involved, cut, end, view, experience, throw, seems, develop, lending, depends, look, hearing, lend, calls, see, look, hear, feel, disappeared, shunted, rendered, develop, compel, compels, seem, depend, become, become, called, compare, overlaps, refers, refers, says, regarding, disappears, take, turn, described, writes, became, illuminated, cast, seemed, placed, revolving, written, writes, seemed, Created, reserved, set, mock, turn, drugged, have, signify, supported, think, remains, experiences, says, seems, changing, drifting, sees, writes, seems, have, felt, have, subjectivised, depend, observes, sees, seen, see, involves, determine, makes, gains, think, says, seen, talked, perceives, is, give, see, Speaking, says, had, found, severed, wakes, lived, regard, preceded, preceded, becomes, draws, fill, serve, dominating, harks, reaches, happened, fills, becomes, comes, define, making, seem, impending, done, get, pass, suppose, is, Created, reserved, finished, are, go, affects, changed, influenced, finished, begin, enter, does, lived, realized, mingle, stroll, join, plays, relived, becomes, makes, surprise, is, branches, continues, retain, grander, held, remains, isolated, stands, waving, overcome, doing, feels, become, changing, gives, involved, realizes, determining, involved, described, experienced, playing, fabricated, Lived, does, takes, experienced, becomes, see, makes, Created, reserved, objectified, turned, seems, have, argued, lead, disappears, bring, want, focus, says, living, have, means, becomes, make, understood, connected, says, feel, lost, linking, linked, seems, feel, said, disintegrates, finds, results, constitute, note, says, disappeared, are, shaken, mingled, is, see, string, belong, do, disappears, does, tries, finds, rely, create, ended, put, knows, comes, came, presents, stumbles, says, seems, have, moving, hesitating, demonstrating, described, shift, come, go, indicating, come, resembles, described, Speaking, remarks, associated, separate, is, waking, Created, reserved, wake, carries, begun, go, sleep, go, dreaming, thinking, holds, provides, imparts, divides, falls, becomes, taken, becomes, says, know, underlying, oppose, transformed, wants, nail, constitutes, Suspecting, building, let, see, has, do, detached, gives, make, experience, living, feel, distinguished, took, intruding, happen, witness, allow, swept, call, constitute, becomes, made, divided, become, make, rise, wearing, provides, divided, makes, stand, subduing, comes, gone, throws, strikes, recognize, see, knows, get, has, turning, plays, spend, Created, reserved, dwelling, happened, are, emphasized, walked, experienced, shrug, preserve, leads, deduce, makes, suspect, make, lead, deduce, travel, seeing, lead, deduce, appeared, deduce, let, distill, called, believe, regarded, seized, believed, surpassing, happened, had, convert, resounding, placed, struck, thought, is, oriented, regard, include, see, closed, are, set, talk, admit, become, become, came, seems, give, given, deal, venerated, dismissed, happens, needs, resisted, Created, reserved, leads, believe, negate, go, denies, experiences, does, makes, understand, hold, fear, boasting, thought, explain, subdue, turn, talk, avoid, cherish, adopt, cherished, longed, have, say, writes, feels, left, undone, manifests, insists, show, defined, broken, Think, folded, made, deduced, is, divides, splits, cuts, circulate, coming, reduced, come, left, made, issue, come, drops, seen, seen, experienced, Created, reserved, is, open, experienced, noted, looks, knows, slipped, walking, confused, depict, knows, slipped, consist, Taking, taking, loved, endanger, destroy, Seen, lives, realizes, fallen, landed, understood, observe, peer, see, see, seen, causes, see, Dreaming, dreaming, put, say, become, occurs, upsets, says, obscured, living, loses, becomes, appears, writes, rushed, distinguish, waking, say, thought, experienced, have, fragmented, has, are, keep, happen, fall, awoken, resembles, are, falling, flying, Created, reserved, take, is, is, close, dreaming, observing, dreams, means, makes, observing, holds, populate, said, takes, ends, open, loses, applied, ends, open, do, close, receiving, are, keep, see, surprise, hidden, slipped, transform, according, happen, surprises, take, know, wake, find, dream, decide, wake, try, awaken, think, succeeded, end, occur, know, mean, shut, walk, know, walk, writes, wake, know, seem, dream, pass, awake, laugh, seems, change, are, get, see, disappear, focus, eliminating, tend, understand, glimmering, has, do, Created, reserved, means, see, related, using, associated, has, claims, is, called, said, comply, According, withdraws, hear, goes, meaning, have, told, means, talks, goes, defend, based, set, notice, ranked, expressed, given, used, describe, have, do, went, swimming, increasing, see, refers, discussed, writes, refers, objectifying, directed, experienced, describe, call, monitor, objectify, describes, follows, fascinates, confronts, involved, comes, mocks, contains, confronts, gaping, understood, known, defend, make, fail, mention, see, say, support, has, reaching, posits, qualify, interpreted, have, trying, comprehend, driving, have, becomes, has, do, become, makes, seem, belong, reports, Created, reserved, become, have, do, is, fit, blocked, lose, refers, believes, living, is, living, deal, quote, accompanied, had, awed, struck, become, congratulated, create, felt, supporting, holding, containing, giving, kick, writes, confronts, entering, tested, marked, modified, shapes, underlies, marked, marked, imprinted, perceived, passed, remained, Created, reserved, understand, examining, thought, believe, know, thinking, perceiving, dividing, becomes, becomes, goes, understood, gaining, learn, drawn, make, see, think, see, think, seen, heard, felt, smelled, tasted, exist, walking, seeing, seen, see, see, do, see, walk, walk, look, ask, see, look, mistaken, see, gives, distorted, Seeing, perform, sees, see, describe, involved, talk, talk, exist, do, know, have, decide, make, known, know, thinking, have, go, find, consist, subjected, think, want, Created, reserved, decide, going, think, think, thought, exist, observed, see, depends, see, sees, Seeing, see, Seeing, do, come, enter, see, see, sees, see, see, appear, depends, approach, thought, imagine, cut, think, assume, exist, observed, have, related, have, argued, need, know, thinking, assume, expressed, shared, confined, Related, fantasizing, remembering, studying, relate, undertake, involve, working, use, coming, conclude, reached, give, make, reducing, stop, thinking, seeing, brings, called, emerges, begin, end, try, get, adhere, observing, seeing, Created, reserved, view, related, see, used, has, sees, perceived, ascribes, called, see, hear, feel, called, characterized, experienced, perceived, bother, incorporate, see, has, see, know, have, dancing, know, have, hallucinating, regard, vanish, regarded, cease, experienced, means, doubted, corrected, experienced, believe, seeing, accept, seeing, thinking, seen, think, seen, chosen, see, seeing, see, seeing, bear, seeing, belong, seem, thought, make, seem, accept, say, believes, heard, established, doing, making, calling, having, call, call, know, Created, reserved, are, attached, describing, know, seeing, says, appear, reflect, bear, thought, passing, have, knows, walk, view, have, is, discover, occupy, do, blocks, relate, writes, have, walk, distorted, do, seeing, having, points, ask, show, describe, have, have, have, thought, resemble, see, see, know, looking, see, walk, assume, see, presents, form, takes, becomes, becomes, see, made, called, invented, seem, say, sees, see, seem, made, made, regarded, happen, exist, intended, look, see, seen, is, Created, reserved, is, transformed, see, seems, occurred, come, sees, goes, does, has, decoded, made, becomes, reveals, say, having, interpret, show, is, see, interpreted, making, moving, trying, tell, regarded, look, become, having, mean, having, notes, had, kneeling, saw, explains, seem, involve, turn, have, uses, seems, suggest, made, meant, taken, think, used, prefer, say, see, seems, shifted, expanded, are, see, view, shifted, say, is, altered, goes, involved, seeing, meant, has, brings, discovers, made, influenced, gives, appears, see, seeing, binding, experiences, see, thrusts, gives, see, Created, reserved, Written, walked, announce, used, know, cast, saw, had, saw, moved, wearing, struck, dressed, demanded, showed, were, working, exchanged, knowing, Chuckling, muttering, continued, had, pass, get, assembled, discuss, coming, heading, inspired, provoked, seen, was, had, looked, feigned, realized, change, slide, tried, look, decided, leave, enclosed, tell, looked, acquired, knew, going, write, struck, received, discovered, decided, knock, take, called, confining, disguised, inspired, write, set, complement, expand, provide, come, had, have, gone, have, added, developed, subdivided, released, liked, have, stayed, do, watch, evolve, given, said, wanted, make, did, Created, reserved, seemed, stacked, do, record, compose, seemed, allowed, wait, thought, had, cogitating, had, reach, take, rushed, walked, walked, thought, looking, possessed, were, think, get, distracted, took, saw, thought, happening, converted, tucked, end, had, describe, happening, set, pointing, going, write, escaped, escaping, smiled, took, saw, hoping, According, see, see, stop, see, pondering, saw, announced, know, messing, know, written, leaked, written, put, came, believe, saw, believe, saw, saw, look, go, made, keep, admitting, saw, look, kept, walking, letting, decided, turn, had, Staring, stimulated, pausing, withdrawing, regard, stop, stand, walk, notice, has, see, becomes, walk, touch, feel, looks, examines, Created, reserved, observes, stares, turns, staring, manifests, looking, staring, understood, acting, Acting, charged, withdraws, aligns, interacts, observes, staring, uses, scanning, compares, see, Quoting, says, functions, comments, perceive, conceive, substituted, Looking, done, acting, leads, sees, staring, writes, get, become, make, tempted, say, seen, stare, tempted, say, look, walking, writes, bound, argue, staring, intuiting, leads, results, staring, intuiting, related, Staring, intuiting, associated, associated, happen, staring, intuiting, done, occurs, Intuiting, withdrawing, develop, flourish, reversed, occur, classified, thought, staring, intuiting, develops, keeping, made, use, show, called, Created, reserved, comes, take, thought, do, show, begin, resemble, thought, becomes, provides, compare, understood, work, used, work, receive, receive, comes, received, make, know, thinking, reproduce, siphoned, made, appear, assured, trust, thought, recorded, set, terrorizing, ends, see, walk, thinking, experiencing, fallen, receiving, designed, written, found, understood, exist, tapped, tapped, absorbed, participated, understood, posed, created, turned, disguised, end, read, pay, take, know, need, know, spends, poisons, undermined, sucked, taken, began, see, wreaked, had, looked, understood, buzzing, pointed, had, do, saw, tell, appeared, walked, hear, talking, go, saying, do, talking, sending, making, Created, reserved, walked, looked, recognized, averted, turned, looked, had, looked, told, knew, going, attacked, destroyed, talking, talking, see, meet, alarming, seem, have, mean, become, look, calls, takes, understood, invented, say, regard, shared, imagined, have, written, has, see, see, take, driving, observed, sees, driving, fills, appeared, say, thinks, depends, continue, thinks, has, do, says, enlarged, stretched, are, inhabiting, see, thinks, say, relate, relate, appear, meant, send, have, have, revolves, point, comes, become, have, Created, reserved, exhibit, seems, explain, put, seems, talking, shared, reporting, looks, thinks, perceives, refute, indicate, use, seem, talking, shared, talking, sees, need, go, are, know, is, makes, repeat, is, knows, understands, made, imagined, discuss, embracing, surprised, presents, makes, say, determines, perceive, Thinking, do, think, are, perceived, becomes, conducted, sets, keeps, going, lose, lead, called, says, interviewed, turned, walked, looking, thought, have, happened, thought, help, using, remember, standing, trying, help, choose, felt, connected, used, play, roll, focus, think, stop, rolling, sitting, trying, make, Created, reserved, touching, saw, asked, doing, trying, make, thinks, manages, conduct, escaping, maintain, think, make, happen, distinguish, distinguish, packed, happens, makes, changes, becomes, takes, see, resembles, believes, exists, owing, imposes, change, is, compared, known, played, perceived, borne, boils, depends, look, takes, says, perceives, have, happens, have, happens, seems, lives, serves, perceives, taking, are, populating, gives, perceived, takes, imagined, look, become, appear, have, become, appear, take, move, take, leave, feel, feel, become, drag, feel, racing, get, flow, thought, Created, reserved, come, experienced, feels, has, presenting, thinking, surprised, surprised, read, surprised, reads, attached, seen, talked, writes, find, assailed, experienced, say, saw, represent, felt, seemed, crunched, choking, experienced, perceived, see, discussed, thinks, surrounded, writes, began, think, hear, thinking, used, think, hear, broadcast, had, broadcast, discuss, Writing, says, noted, passed, wanted, draw, read, thought, made, knew, thinking, had, kept, coughed, had, make, made, make, sees, changed, makes, felt, coming, shifting, poses, describing, disappear, know, made, is, is, Created, reserved, waiting, filled, interpreted, feared, fled, writes, have, living, feels, belongs, communicates, remain, embedded, state, has, conceive, relied, holds, lose, initiating, lose, belong, conclude, experiences, have, extracted, made, compare, occur, leading, occur, thought, results, seeing, missing, attempts, reduce, distinguished, distinguished, know, hearing, seeing, have, know, distinguish, quoted, says, know, talk, having, remembering, fantasizing, saw, thought, saw, knew, coming, apply, is, is, notes, describe, linked, point, occurred, manifested, projecting, hanging, flew, sat, saw, occupied, hallucinating, experienced, Note, say, projecting, writes, infuses, eludes, transformed, heightened, pulsing, diminished, undermined, seem, have, is, communicate, cites, quoted, noticed, skipped, noticed, made, feel, bound, happening, gave, penetrating, made, Created, reserved, says, shot, combined, pulsing, seems, titillated, frustrated, provides, interacting, picking, obliged, recognize, offers, testify, look, stares, seem, have, come, seem, seen, staring, come, clouding, taking, said, experience, have, seeing, seen, understood, mean, have, looking, characterized, staring, looking, gives, comes, psychosis, make, based, have, think, looks, involves, pay, changed, means, structured, based, sustained, perceived, say, becomes, becomes, say, is, experiencing, take, thought, acquires, has, say, Die, und, die, tigkeiten, see, reported, see, note, interwoven, view, read, occurs, go, be, experienced, experienced, lead, Created, reserved, lie, see, gone, dispossessed, choose, see, seeing, exist, lies, wiped, Burnt, diagnosing, ask, think, answer, answering, indicate, related, mean, understand, exploring, Understanding, give, return, spoken, understand, learning, means, understand, begin, thinking, start, getting, ponder, find, saddled, trying, solve, concern, put, asks, know, wish, explain, asks, know, have, reflects, Created, reserved, keeps, using, jotting, knows, going, understands, want, find, turn, consult, see, reflecting, lead, doing, follow, expose, show, taken, lead, see, begin, explaining, According, refers, derived, reflects, tries, find, support, reconcile, brought, masked, suffers, rubs, describe, following, According, exists, occupy, calls, worked, says, has, do, is, let, moving, occurs, say, moving, goes, is, say, is, determined, observed, Created, reserved, measured, described, stretched, bounded, describes, follows, admits, discriminate, note, used, counted, count, counted, count, understood, produces, counting, coupling, form, speaking, represented, creates, indicates, creates, increasing, refer, talking, takes, According, are, related, is, go, measured, examined, continue, fixed, placed, relate, take, have, do, placed, said, fix, compare, dealt, compare, exist, connected, organizing, explaining, governed, find, need, orient, occupy, Created, reserved, anchor, need, calls, set, see, going, has, compares, says, prevents, deriving, understood, are, is, limited, connected, is, differentiate, looked, lived, move, imagine, riding, placed, say, introducing, grasped, gathered, requires, grasp, Moving, speaks, lived, based, exists, living, assert, pertains, grounded, live, have, has, given, flow, meet, leave, existing, is, think, is, have, reflect, realize, explained, presume, Created, reserved, tried, base, results, encompasses, reaches, filled, happen, refer, According, contains, concentrate, forget, concentrate, attained, consists, separated, form, transform, called, speaks, calls, have, integrated, seen, placed, is, flowing, imagined, happened, given, called, counts, precedes, writes, called, takes, initiate, seem, had, have, withdrawn, has, influenced, makes, has, according, concerns, rests, made, Created, reserved, assumed, experienced, doing, is, said, remains, analyze, delve, borrow, flowing, springing, borrowed, according, traced, say, remembered, heard, heard, hopes, substantiate, making, seems, smuggling, criticize, according, have, tells, regard, follow, converge, depends, defined, depends, is, excluded, constitutes, is, has, obtains, belong, have, do, insist, represented, uses, runs, do, Created, reserved, make, distinguished, made, assuming, bound, assume, given, located, According, consist, branching, makes, found, provoke, show, pondering, send, discussed, argued, live, live, Lurking, resolved, made, deal, do, sublimate, cover, shared, regarded, made, share, have, do, provide, emulating, think, feel, speak, allow, shared, shared, grasped, explained, made, happened, occupy, According, makes, linked, related, accepted, has, say, constructed, lived, stem, participate, constitutes, is, Preceding, says, plays, see, Created, reserved, told, are, accepted, deal, made, go, do, according, fixed, fixed, trust, manage, have, analyze, wonder, follow, go, happens, according, relating, implies, accepting, is, constitute, made, shared, makes, live, slipping, form, understood, seen, written, take, walk, see, understand, have, have, lose, have, guided, have, look, set, stationed, keep, have, guarded, give, detected, neutralized, do, intervening, step, threaten, get, sit, drinking, keeping, making, hear, utter, carry, upset, step, muttering, Created, reserved, offer, straightening, opposing, placed, serve, subdue, filled, filling, prefer, restructure, create, trying, keep, making, signal, running, assured, walks, acquired, transformed, say, referring, rotate, circulate, glances, see, changed, saw, wearing, ended, doing, booted, watch, keep, going, get, get, interpellate, pay, chucking, keep, talking, begun, passes, have, come, put, know, see, talking, bring, knowing, is, keeps, recurring, realize, fall, see, ending, becomes, left, sounds, has, stay, pick, empties, sweeps, leave, waiting, start, walking, thought, tell, were, had, know, go, come, gets, mixed, hear, speaking, making, Created, reserved, used, think, ended, orbiting, pulling, Chuckling, continue, have, trust, called, come, seems, holds, hear, speaking, mixed, speeds, have, take, causes, coming, keep, reported, go, follow, worn, form, walk, comes, keep, going, lose, experience, understand, make, know, end, moving, taken, granted, applied, writes, understand, have, implemented, presents, published, made, argues, reflecting, leads, expounded, According, exist, argues, taking, end, writes, claimed, exists, have, act, kept, do, describe, is, state, have, born, affect, According, experiences, Created, reserved, reflects, applies, investigate, follows, interview, undertaking, eliciting, rendered, shared, has, believed, included, render, decided, attempt, happen, taken, discuss, writes, live, live, seems, standing, move, know, stands, disappeared, knows, knows, deal, relate, work, frozen, seems, come, has, creating, called, take, experienced, change, believes, manipulate, move, reported, has, is, connected, disintegrating, divided, cut, cause, become, cutting, coming, lived, Created, reserved, suffering, going, grasped, changed, compare, makes, is, organized, connected, form, consisting, have, reach, refers, experienced, belonging, creates, affect, Compare, disconnect, organized, end, connected, stand, describes, asked, construct, given, lend, linking, has, call, making, driven, assembled, extends, acquires, filled, writes, found, tend, use, replace, replace, speak, emphasize, deemphasize, evoking, dominated, filled, remember, have, looking, searching, said, look, noticed, wrote, finding, waking, waking, drops, sits, jumps, stand, fly, stands, placed, stands, encompasses, encompasses, Created, reserved, move, walk, exist, writes, draw, indicate, have, change, indicate, run, stare, wrestling, enters, stands, find, says, look, tend, have, immobilize, inspire, attach, passes, exist, wish, construct, conceived, putting, try, do, go, urinating, try, revive, make, die, born, make, move, uprooted, wish, reports, have, show, have, do, become, becomes, manipulated, reversed, turned, turns, made, go, looks, lies, exposed, direct, structured, adjust, change, controls, evoke, experience, entering, explore, walking, entered, control, are, remaining, wrote, said, are, falls, imagine, taking, join, rise, become, has, assume, said, seem, found, Created, reserved, falls, digested, burned, serve, happened, resembles, manipulated, repeated, come, have, do, shown, have, getting, die, knows, shot, killed, makes, ride, remain, shot, died, looking, do, want, look, do, waiting, understand, take, keep, expanding, arrive, called, has, do, imagine, conceive, extending, gaze, plays, enhanced, continued, offer, increase, experience, comes, placed, advances, makes, come, realize, stretches, recur, stretches, annulled, seem, Created, reserved, disappeared, writes, following, have, go, sat, looked, looked, passed, estimated, had, do, had, estimated, seems, passing, seems, have, continues, standing, stands, matters, seem, pass, looks, experiences, happen, dissolved, suffered, put, stop, thinking, passing, talking, lasts, do, takes, die, come, live, did, eating, sleeping, come, goes, lead, recognize, deny, find, see, demonstrate, imply, runs, follows, is, is, includes, owing, stretching, is, enfolds, think, thought, imagine, becomes, thought, exist, refute, subjected, lead, comes, states, felt, Created, reserved]\n"
     ]
    }
   ],
   "source": [
    "print(verbs)"
   ]
  },
  {
   "cell_type": "code",
   "execution_count": 220,
   "id": "e18ffa3a",
   "metadata": {},
   "outputs": [
    {
     "name": "stdout",
     "output_type": "stream",
     "text": [
      "[nyulibrary, nyulibrary, first, important, psychotic, inner, outer, existential, radical, different, new, straightforward, discrete, phenomenological, daily, inner, outer, initial, first, paradoxical, same, analytical, irrelevant, philosophical, various, fascinating, disruptive, nyulibrary, Real, paradoxical, real, remarkable, outside, imaginary, realer, normal, mad, real, unreal, several, detailed, manic, present, own, heightened, considerable, related, net, outer, vivid, intense, usual, whole, own, own, private, real, phantasmagoria, unreal, same, real, wild, nyulibrary, crazy, private, real, sane, common, ordinary, startling, convincing, blunt, very, realer, real, unreal, possible, next, ordinary, real, real, ordinary, real, unreal, mad, real, unreal, same, extreme, extreme, contradictory, same, crazier, last, good, actual, genuine, real, ordinary, multiple, real, authentic, true, artificial, deceitful, daily, mad, single, specific, certain, real, unreal, mad, entire, entire, real, unreal, little, most, relevant, real, unreal, more, real, phenomenological, much, only, distinct, quasisensory, quasiperceptual, immediate, ineffable, immediate, ineffable, mad, further, fleeting, unreal, nyulibrary, real, unreal, real, interesting, Most, relevant, human, general, general, general, real, unreal, real, unreal, important, important, decisive, essential, ordinary, first, able, opposite, normal, real, limitless, imperative, ordinary, real, occasional, appropriate, real, difficult, imaginary, real, such, natural, certain, real, real, evident, fewer, typical, less, evident, different, nyulibrary, Big, real, Big, Big, true, real, many, different, shorter, real, awake, much, real, such, different, real, real, typical, real, strongest, common, evident, ordinary, real, unconsidered, real, strong, much, real, unrealness, real, voluminous, first, psychopathological, perceptual, perceptual, seventeenth, French, scientific, deeper, provisional, certain, sensory, natural, such, deeper, unquestioned, stronger, actual, philosophical, mad, less, easy, bright, red, blue, robust, more, nyulibrary, real, silent, futuristic, such, realer, virtual, real, real, several, sensory, motorial, real, motorial, more, less, more, Real, Real, real, true, actual, more, less, real, special, real, real, dependent, first, likely, real, real, primary, real, objective, secondary, subjective, real, red, everyday, real, less, real, happy, less, real, virtual, Real, certain, own, recalcitrant, red, authentic, mental, certain, Hard, real, liquid, real, eternal, practical, objective, natural, real, fellow, human, intersubjective, nyulibrary, perfect, familiar, real, other, certain, unquestioned, enough, more, single, less, real, first, amorphous, real, material, real, present, idiosyncratic, real, least, experiential, real, other, same, real, real, dependent, hard, objective, real, such, real, such, normative, real, such, cloud, foreign, certain, unreal, human, imaginary, human, vast, fictional, individual, unreal, real, many, everyday, imaginary, real, particular, certain, real, present, real, subjective, more, real, nyulibrary, other, real, longer, observable, present, same, past, sudden, sensory, motorial, single, little, own, intersubjective, real, actual, common, able, possible, realer, intersubjective, objective, such, same, less, subjective, real, unreal, nonexistent, own, actual, inescapable, future, real, real, realistic, uncertain, certain, real, more, unreal, abstract, real, human, such, certain, real, real, essential, dead, alive, real, real, ineluctable, real, real, last, interwoven, continuous, likely, real, unreal, real, equal, nyulibrary, dreamlike, notable, other, whole, awake, awake, similar, real, whole, real, twentieth, German, sudden, unanticipated, much, more, discontinuous, real, spacious, continuous, coherent, real, continuous, present, continuous, integrated, same, distinguish, real, unreal, continuous, real, unreal, future, realistic, feasible, impossible, fanciful, complex, possible, more, experienced, more, psychotic, objective, causal, unknown, More, more, other, nyulibrary, subjective, such, latter, psychotic, phenomenological, ndlichkeit, unusual, objective, temporal, true, daily, sweeping, fundamental, positive, negative, unreal, Many, profound, alone, strange, full, Chinese, real, able, plausible, inclined, least, integrated, common, familiar, strange, cohere, previous, everyday, everyday, limitless, subjective, objective, intersubjective, real, real, real, real, continuous, gradual, naive, nyulibrary, basic, everyday, symbolic, common, mad, mad, much, naive, everyday, heedless, more, net, realer, hyperreal, real, fine, certain, impractical, everyday, naive, Such, necessary, Analogous, imperative, free, coerced, external, immediate, outside, profound, conceptual, hermetic, later, greater, certain, Strong, Mad, coercive, indisputable, anonymous, overwhelming, plain, incredible, absolute, former, strong, antireligious, possible, realer, normal, necessary, ineluctable, random, nyulibrary, coincidental, thrilling, clearer, unambiguous, whole, strange, difficult, religious, quasi, religious, evil, intrusiveness, strong, benevolent, many, positive, alternate, negative, next, powerful, enlightened, dark, same, able, unequivocal, many, intense, obvious, meaningful, apparent, realer, real, lunatic, whole, different, overwhelming, sanest, compelling, meaningful, wonderful, annoying, lighthearted, such, typical, relevant, important, direct, divine, lower, nyulibrary, certain, such, due, purposeful, divine, divine, definite, definite, short, whole, human, free, divine, angry, objective, entire, mental, free, mechanical, such, predictable, familiar, mythical, first, own, other, bent, invisible, grotesque, quiet, outside, implacable, lifeless, infinite, white, brilliant, ant, extreme, about, extraordinary, fellow, human, free, objective, confident, realer, more, same, fellow, artificial, mechanical, hyperreal, Circular, right, real, fundamental, normal, real, irreversible, mad, eternal, same, nyulibrary, ordinary, dark, Last, Everyday, connected, worried, cinematic, planned, entire, intense, important, more, real, ordinary, linear, ordinary, new, sacred, sacred, closer, more, distinctive, basic, circular, very, only, real, famous, third, radial, dependent, circular, liberating, frightening, dead, mechanical, constant, small, interwoven, special, perceptual, sinister, real, important, loose, real, loose, nyulibrary, discontinuous, real, real, bright, real, red, same, real, important, significant, other, possible, remarkable, continuous, other, Swedish, next, chemical, leaden, other, further, lively, marvellous, more, genuine, equal, real, other, real, normal, causal, noncausal, mad, real, same, mad, true, causal, crazy, enough, clear, causal, noncausal, noncausal, logical, Serious, more, last, nyulibrary, empirical, Humean, common, bizarre, strange, unconventional, illogical, frequent, distressing, astonishing, mental, Many, evident, unambiguous, open, indefinite, famous, essential, everyday, great, few, wrong, small, silly, important, fundamental, artificial, certain, specific, clear, devoid, wrong, evident, missing, possible, unconscious, daily, fascinating, philosophical, psychiatric, similar, other, mathematical, social, cool, same, more, ordinary, basic, nyulibrary, uncertain, irrelevant, normal, commonplace, nonfunctional, numerical, other, able, possible, brooding, simple, philosophical, other, other, normal, everyday, mandatory, optional, unlimited, only, terrible, certain, fit, normal, own, high, American, Such, ironic, distanced, possible, possible, enormous, other, real, whole, different, constant, jellylike, substantial, enough, real, Doubtless, real, clumsy, vulgar, unpleasant, false, cinematic, nyulibrary, hyporealistic, conscious, real, unreal, vague, many, pregnant, great, psychotic, less, everyday, hyporeal, likely, various, visual, dominant, easier, Visual, better, psychotic, auditory, least, likely, alternative, easier, ordinary, common, everyday, insignificant, total, other, possible, hyporealistic, objective, subjective, intersubjective, subjective, common, quiet, implicit, Common, sensible, customary, normal, Common, conventional, practical, theoretical, practical, natural, common, other, unreal, longer, real, mad, counterfeit, unreal, imaginary, inauthentic, unreal, improvised, enormous, dreadful, electric, false, exact, smooth, artificial, tense, evocative, less, real, nyulibrary, horrible, like, unreal, ordinary, independent, mad, Mad, unstable, constant, psychotic, intimate, remote, distant, different, reminiscent, philosophical, schizophrenic, unreal, real, independent, real, hyperreal, sacred, circular, experienced, hyporeal, timeless, mad, quasi, eternal, stable, recognizable, distinct, last, new, eternal, terrific, immediate, strange, stable, psychotic, changeable, mad, last, past, eternal, indefinite, least, psychotic, possible, such, mad, real, nyulibrary, most, different, mad, wild, common, past, changeable, unchangeable, psychotic, distant, psychotic, eternal, distant, mad, Dutch, brutal, Japanese, Asian, unreal, such, psychotic, compulsory, same, eternal, mythical, Olympian, orange, unreal, hyporealistic, real, other, more, fleeting, insubstantial, solitary, more, likely, same, same, unreal, capricious, intrigued, Islamic, Islamophobic, important, same, cyclic, hyperreal, real, same, mad, unreal, artificial, real, mere, better, disordered, scrambled, mad, subjective, own, visible, more, nyulibrary, other, unreal, French, momentary, disconnected, various, other, disconnected, infinite, consistent, earlier, psychotic, fragmented, broken, real, random, consecutive, real, important, hyperreal, longer, shorter, correct, causal, able, psychotic, stable, past, new, such, psychotic, unconventional, psychotic, unique, semantic, possible, next, simultaneous, several, experienced, least, alternative, schizophrenic, alternative, semantic, Such, own, psychotic, acute, easy, close, nyulibrary, same, whole, reliable, realer, real, hyperreal, unreal, superreal, unreal, same, hyporeal, paradoxical, real, other, Roman, previous, wooden, wooden, earlier, same, insistent, intense, hyperreal, eternal, very, unreal, past, same, real, distant, historical, real, nonpsychotic, intense, real, intense, severe, unreal, mad, normal, different, unreal, realer, real, less, certain, real, near, hyporealistic, intense, extreme, normal, vast, sheer, everyday, common, fabulous, funny, confident, real, close, nyulibrary, possible, extreme, real, unreal, coercive, intense, madman, insistent, likely, realer, real, mad, other, strong, strong, strong, intense, timelessness, mad, possible, private, unusual, strong, extraordinary, special, scientific, social, privileged, real, real, secret, realer, mad, objective, normal, ancient, divine, eager, social, recent, romantic, mad, inaccessible, normal, human, present, special, mad, special, many, interesting, positive, spiritual, negative, psychotic, striking, satisfying, various, spiritual, few, afraid, psychotic, deep, spiritual, such, new, good, unjustified, mad, other, latter, much, irrelevant, nyulibrary, mad, meaningless, senseless, devoid, entire, psychiatric, outside, real, hyperreal, good, comprehensible, sad, many, unable, unwilling, same, able, many, former, psychiatric, intense, enough, future, many, former, black, dead, medicinal, more, psychotic, psychotic, unceasing, experienced, more, incomprehensible, temporal, Many, fundamental, previous, existential, normal, everyday, common, incised, Mad, previous, ordinary, human, nyulibrary, gradual, Dutch, least, ordinary, human, mad, Afghan, normal, human, broken, such, interwoven, Afghan, deceased, other, continuous, everyday, normal, human, lonely, ordinary, able, unfiltered, shortest, cogent, open, famous, Swiss, real, identical, certain, other, conscious, inner, outer, awake, strong, common, psychological, crazy, wonderful, natural, supernatural, difficult, mere, certain, historical, great, common, chronological, structured, disconnected, objective, stable, nyulibrary, closer, solo, common, true, mad, real, more, physical, unreal, mad, open, better, much, outside, much, many, open, remarkable, own, unpredictable, same, true, mad, entire, normal, own, unexpected, new, strange, lucid, lucid, real, real, Such, odd, psychotic, psychotic, whole, sure, relieved, real, able, endless, everyday, mad, negative, such, More, next, nyulibrary, more, intense, apt, latter, twentieth, same, strong, hypo, insufficient, sensitive, subjective, mad, unable, little, aware, nuanced, common, intersubjective, only, Many, such, individual, onedimensional, many, past, future, same, past, tense, future, tense, warm, psychiatric, right, greater, exaggerated, focal, inhabited, reflexive, tacit, presupposed, excessive, own, schizophrenic, ultimate, radical, schizophrenic, limitless, intolerable, schizophrenic, staggering, radical, non, knowing, non, knowing, non, knowing, powerless, clumsy, difficult, wrong, psychological, visual, auditory, other, similar, conceptual, spatial, visual, interesting, further, Other, enchanted, invisible, other, personal, own, sole, other, ghostly, real, Other, alien, spectral, focused, familiar, nyulibrary, oriental, other, only, dead, mechanistic, inhuman, more, consistent, reconcilable, own, stereoscopic, sheer, own, substantive, stereoscopic, able, grateful, benevolent, similar, elastic, minute, current, elastic, absent, marked, vacant, nyulibrary, outside, Mad, aware, aware, inner, outer, different, inner, public, outer, own, possible, outside, more, few, everyday, Common, perceptible, other, same, visible, enough, other, perspective, other, own, same, right, different, visible, audible, perceptible, same, own, comprehensible, great, free, nyulibrary, closer, simple, pregnant, pregnant, passive, attentive, attentive, interested, empty, Sartrean, many, more, ordinary, beloved, hard, inner, visual, visual, observable, comprehensible, private, other, clear, observable, many, modern, such, concerned, outside, inner, such, such, mental, such, mad, better, mad, hasty, same, philosophical, superficial, linguistic, different, different, mad, modern, interior, other, psychotic, psychotic, nyulibrary, such, visual, Latin, unusual, religious, mad, special, private, visual, medical, psychiatric, essential, ordinary, communal, perceptible, older, German, phenomenological, private, visual, organic, such, visual, auditory, correctable, actual, other, similar, little, own, visual, impaired, visual, more, physical, meaningless, mad, Visual, different, ordinary, private, real, same, private, real, exceptional, real, only, unique, unique, random, commonplace, special, ordinary, normal, private, normal, passive, observable, normal, special, visual, psychiatric, ordinary, private, nyulibrary, much, ordinary, meaningful, own, mad, shiny, enough, varied, close, visual, other, common, psychotic, visual, visual, transparent, visible, visible, same, other, other, other, next, noteworthy, spatial, commensurate, spatial, due, organic, visual, likely, everyday, full, strange, visual, pink, hallucinatory, private, normal, other, same, mad, same, hallucinatory, observed, single, private, theoretical, other, own, less, unique, German, early, ordinary, special, mad, special, only, next, special, interesting, nyulibrary, certain, intentional, mad, special, meaningful, clear, theoretical, strong, clear, whole, private, dreamlike, private, hallucinatory, mad, ordinary, important, perceptible, schizophrenic, inner, aware, general, different, Many, objective, careful, metaphorical, metaphorical, metaphorical, unfortunate, metonymic, perceptual, wrong, metaphorical, Altered, altered, remarkable, great, other, subjective, dependent, mad, full, full, playful, inescapable, same, hallucinatory, subjective, indefinite, nyulibrary, new, old, familiar, different, immediate, inner, facial, black, red, few, same, tacit, more, new, red, brisk, open, few, big, new, crowded, many, boisterous, agitated, special, many, ignorant, conspicuous, better, different, pure, previous, many, brilliant, many, many, new, various, new, psychiatric, detailed, inner, such, several, twentieth, similar, new, modern, earlier, Alone, thorough, subject, first, Pure, yellow, red, previous, mental, bad, mental, more, sure, nyulibrary, lovely, peaceful, little, important, only, financial, other, careful, excellent, public, great, motley, careful, own, deep, good, more, visible, own, gigantic, real, insane, Dionysian, Intuiting, visual, normal, likely, many, same, real, normal, nyulibrary, momentary, casual, dynamic, normal, other, inhuman, non, empty, bodily, physical, sensitive, disembodied, ordinary, physical, mad, private, solipsistic, philosophical, clear, philosophical, useful, conscious, unimportant, particular, inclined, certain, metaphysical, unchanging, whole, such, same, theoretical, practical, existential, Mad, likely, least, active, latter, visual, staringintuiting, such, conventional, third, most, whole, passive, active, treacherous, own, nyulibrary, outside, inner, like, recognizable, understandable, inner, outside, important, new, modern, longer, smart, possible, little, illuminated, impossible, such, careful, entire, modern, own, least, official, collective, initial, own, soulless, open, physical, red, circulatory, dry, wise, Fellow, earlier, guarded, stupid, nyulibrary, hollow, hard, mournful, great, only, safe, mental, empty, soulless, extreme, normal, experienced, Mad, normal, visible, perceptible, outside, psychotic, normal, outside, psychotic, private, same, spatial, mad, visual, other, different, red, certain, red, red, red, mental, reasonable, whole, whole, other, outside, other, other, psychotic, normal, psychotic, psychotic, independent, facial, other, whole, independent, other, subordinate, functional, nyulibrary, comic, archetypical, such, small, mad, normal, outside, outside, own, outside, mad, outside, outside, outside, spacious, mad, outside, clear, transparent, transparent, same, mad, vast, mysterious, baroque, remote, outside, own, other, mad, boring, psychotic, important, unknown, surprising, least, other, own, open, other, careful, forward, own, visible, outside, telepathy, kind, strong, same, few, few, old, stronger, windy, nyulibrary, normal, aware, total, right, sure, right, observed, inner, inner, true, false, same, much, real, provisional, temporary, reversible, psychotic, less, serious, psychotic, real, other, possible, same, mad, inner, mental, solipsistic, mad, inner, personal, divine, psychotic, ecstatic, own, lonely, solipsistic, same, lonely, continuous, inner, several, many, inner, more, outside, theoretical, mad, realer, unmad, sensual, large, small, sharp, round, soft, hard, heavy, light, physical, less, normal, bright, nyulibrary, strange, own, real, perceptible, same, contingent, special, physical, horrible, vivid, actual, physical, full, broken, open, Mad, surprised, other, own, disturbing, loud, other, innermost, many, German, able, other, clear, unusual, close, sure, innocent, tired, tense, much, other, such, human, modern, irrefutable, absolute, nyulibrary, same, mad, mental, implicit, semi, conscious, own, inner, private, general, impossible, schizophrenic, very, unimaginable, schizophrenic, own, own, schizophrenic, own, weird, Bottom, perceptual, incorrect, disturbed, wrong, top, disturbed, common, meaning, laden, quasiobjective, biological, such, logical, same, normal, real, personal, Normal, uncertain, many, more, detailed, visual, enormous, large, vague, gray, neurological, psychopathological, characteristic, visual, mystical, religious, personal, particular, normal, dimensional, intersubjective, private, strange, enigmatic, mysterious, unnameable, unreal, extra, real, same, clear, profound, real, clear, following, odd, strange, different, mechanical, nyulibrary, profound, unbearable, intolerable, human, striking, very, independent, passive, different, more, more, such, diaphanous, actual, physical, visual, immobile, active, striking, mad, possible, clear, normal, normal, nonsensical, little, entire, Normal, clear, intimate, inner, public, outer, clear, outer, personal, inner, impersonal, personal, alien, facial, other, psychotic, mythical, inner, substantial, material, mythical, ein, entgegengesetzten, einer, Similar, detailed, normal, physical, typical, human, nonphysical, actual, most, normal, emotional, geographic, right, nyulibrary, simplest, same, twin, white, blacker, whiter, quick, such, last, unable, such, deeper, mad, several, last, mad, normal, complicated, more, first, more, theoretical, daily, nyulibrary, amazed, actual, philosophical, obsessive, mad, mad, irreconcilable, static, internal, subjective, dynamic, first, temporal, second, inner, temporal, daily, Most, oblivious, unfathomable, normal, nonphilosophical, temporal, real, second, own, strange, static, temporal, such, modern, analytic, such, French, cosmological, universal, general, earlier, later, different, different, nyulibrary, less, more, less, countable, different, perpetual, abstract, absolute, relative, other, dependent, relative, absolute, dependent, outside, later, dominant, more, modern, basic, same, divided, conscious, earthly, static, motionless, other, different, same, objective, temporal, other, static, other, temporal, good, suitable, scientific, Strict, dead, nyulibrary, static, static, dynamic, unbridgeable, other, static, many, measurable, static, other, temporal, present, static, static, real, past, immobile, impossible, vicious, necessary, able, nonsimultaneous, dynamic, subjective, experienced, inner, Dynamic, current, only, second, other, mere, current, present, vague, uncertain, past, present, different, static, fluid, dynamic, existing, undetermined, actual, bygone, unchanging, essential, consistent, normal, pure, present, last, dynamic, untenable, verbal, nyulibrary, dynamic, insightful, ordinary, mad, internal, temporal, immediate, temporal, fresh, immediate, fresh, single, larger, temporal, like, ideal, temporal, present, primary, primary, ideal, important, coherent, unreal, incoherent, real, secondary, coherent, temporal, absent, fewer, secondary, coherent, temporal, reflectable, secondary, reflective, French, other, distant, subject, outside, coherent, temporal, retentional, primary, passive, active, secondary, disturbed, inappropriate, incoherent, temporal, incorrect, distant, stronger, mental, linguistic, representative, complex, subjective, own, temporal, temporal, subjective, possible, absolute, nyulibrary, changeable, subjective, subjective, little, insoluble, changeable, solid, quantifiable, big, more, static, such, objective, outside, objective, static, determined, temporal, static, secondary, dynamic, temporal, present, temporal, coherent, historical, priori, more, static, historical, fixed, temporal, dimensional, infinite, exclusive, priori, other, more, possible, different, simultaneous, true, temporal, real, other, multiple, possible, least, conceivable, own, common, objective, own, non, reciprocal, earlier, later, same, linear, primary, temporal, unclear, priori, strong, common, major, subjective, nyulibrary, static, priori, circular, limited, incomprehensible, dynamic, static, impossible, more, philosophical, least, livable, mad, normal, latter, symbolic, third, human, possible, narrative, other, Such, such, own, personal, successful, worth, meaningful, mysterious, past, imaginary, important, human, inner, outer, dynamic, static, human, first, historical, universal, dynamic, static, other, third, historical, real, distinct, fictional, unreal, mythic, nyulibrary, essential, mad, static, dynamic, articulated, livable, certain, half, conscious, half, automatic, sure, great, automatic, common, normal, human, true, logical, such, accepted, doubted, social, personal, explicit, possible, brief, turbulent, familiar, different, difficult, extensive, low, older, concerned, disorderly, many, constant, higher, general, young, unobtrusive, lonely, higher, general, subtle, meaningless, foolish, stupid, asymmetrical, agitated, disruptive, nyulibrary, semantic, asymmetrical, careful, possible, general, few, pleasant, peaceful, tanned, most, contemplative, underground, invert, old, same, black, certain, underground, aggressive, certain, only, whole, ready, future, conversational, steamy, armed, younger, new, academic, new, cyclic, new, long, full, musical, only, last, bare, final, long, Dutch, open, nyulibrary, medieval, Normal, happy, silly, other, other, human, careful, real, important, safest, other, dynamic, historic, static, human, deadlocked, unsettled, particular, longer, common, different, famous, present, analytic, insoluble, recent, Same, same, psychotic, unreal, unusual, Such, static, crystalline, divine, eternal, unchanging, pure, nyulibrary, actual, daily, real, psychotic, theoretical, more, mad, such, impossible, very, psychiatric, problematic, alien, inaccessible, concerned, twentieth, analytic, severe, depressive, such, bizarre, phenomenological, impossible, extreme, mad, other, mad, extreme, bizarre, real, unreal, difficult, unreal, immobile, static, variable, Human, inner, outer, cosmic, Outer, spatial, vast, comprehensive, able, relevant, human, dynamic, static, static, static, natural, fragmented, past, static, degenerate, loose, temporal, inherent, nyulibrary, special, defective, dynamic, continuous, single, separate, more, loose, other, possible, past, future, such, whole, various, other, adjacent, certain, schizophrenic, understandable, human, deterministic, causal, present, timelessness, spatial, temporal, human, present, same, temporal, spatial, mad, spatial, spatial, temporal, spatial, chronological, dynamic, emotional, temporal, psychotic, vivid, certain, different, magpie, real, eternal, frozen, mad, nyulibrary, able, mad, long, stubborn, immobile, same, circular, dynamic, common, human, different, periodic, little, inner, other, static, spatial, psychotic, other, Such, mad, mad, open, psychotic, prehistoric, virgin, present, future, adjacent, stubborn, reversible, irreversible, difficult, reverse, rare, intact, such, obvious, possible, psychotic, irreversible, separate, different, nyulibrary, psychotic, reversible, reversible, timeless, Irreversible, irrevocable, mad, spatial, Irreversible, next, such, timelessness, eternal, old, eternal, younger, younger, older, older, whole, many, same, whole, continuous, eternal, imperfect, human, perfect, simplest, eternal, long, eternal, dynamic, long, static, static, spatial, more, invisible, distant, backward, forward, crude, Human, eternal, free, longer, negative, endless, endless, different, other, eternal, negative, present, pointless, Such, somber, ordinary, human, nyulibrary, own, depressive, more, painful, incorrect, true, happy, more, more, ordinary, oppressive, agonizing, eternal, aware, static, physical, aware, human, protective, meaningful, static, insignificant, great, endless, eternal, boring, sprawling, many, meaningless, eternal, psychotic, intense, dynamic, obsessive, immortalized, dynamic, real, eternal, many, mystical, religious, static, present, absent, static, linear, vast, inclusive, inner, subject, other, aware, horizontal, vertical, more, important, such, present, real, absent, difficult, extreme, ecstatic, like, beautiful, horrifying, nyulibrary]\n"
     ]
    }
   ],
   "source": [
    "print(adjectives)"
   ]
  },
  {
   "cell_type": "code",
   "execution_count": 221,
   "id": "1c07769d",
   "metadata": {},
   "outputs": [
    {
     "name": "stdout",
     "output_type": "stream",
     "text": [
      "[most, Suddenly, Here, seemingly, closely, so, also, vice, versa, usually, apart, here, also, here, already, more, So, deeply, vividly, much, more, Here, elsewhere, really, so, There, only, all, utterly, First, about, else, only, then, strictly, much, more, so, much, more, even, also, so, normally, extremely, extremely, all, therefore, away, altogether, too, really, really, usually, Surprisingly, simply, otherwise, rarely, totally, either, no, further, actually, briefly, greatly, just, actually, also, immediately, however, usually, here, After, all, sometimes, sometimes, as, So, first, so, forth, seldom, Normally, as, long, otherwise, down, Here, also, so, immediately, really, only, also, here, less, also, biologically, is, past, immediately, really, at, all, so, quickly, necessarily, conceivably, possibly, else, certainly, as, long, really, well, also, really, as, subtly, Also, really, really, always, otherwise, then, so, much, less, too, there, even, possibly, Ever, methodically, that, much, only, more, more, yet, only, even, more, only, also, still, yet, more, just, really, so, less, less, more, Thus, less, really, less, else, more, as, also, still, no, matter, Therefore, more, simply, yet, really, only, really, less, still, only, less, just, only, less, as, well, always, even, roughly, Then, less, all, Even, less, also, just, as, well, at, all, strictly, strictly, most, very, well, now, never, never, exactly, just, more, really, only, less, objectively, less, also, no, longer, never, again, no, longer, really, together, back, then, only, also, still, more, as, away, never, again, yet, often, Conversely, precisely, yet, here, still, Naturally, only, less, less, extremely, also, still, very, more, also, very, also, either, more, suddenly, very, never, quite, suddenly, as, fast, rather, distinctly, perfectly, mutually, only, gradually, slowly, no, at, first, only, more, only, only, internally, just, now, just, about, so, only, actually, even, more, continuously, no, longer, here, still, here, clearly, back, Yet, profoundly, more, also, suddenly, really, all, as, never, suddenly, So, thereby, still, together, neither, strictly, rather, purely, purely, somewhere, only, back, only, also, less, entirely, essentially, really, also, no, longer, as, suddenly, rapidly, immediately, directly, suddenly, rationally, Also, no, longer, rather, no, longer, anymore, constantly, more, just, often, also, all, certainly, as, well, no, longer, then, Usually, simply, however, much, more, after, all, slowly, back, forth, yet, completely, so, even, deeply, exactly, most, well, normally, Here, again, right, right, most, most, certainly, still, hourly, always, so, frequently, newly, possibly, before, only, accidentally, as, soon, as, well, only, already, just, indisputably, simply, much, too, always, ghastly, far, away, Suddenly, about, aimlessly, Then, more, emphatically, simultaneously, exactly, then, already, now, only, often, also, then, more, more, therefore, as, well, somehow, more, deeply, then, also, there, neither, apparently, as, well, mainly, also, thousandfold, dizzyingly, very, just, just, more, Usually, anymore, here, real, nonetheless, equally, also, still, together, further, first, causally, incredibly, somewhat, also, soon, often, normally, after, all, just, alone, Finally, at, all, usually, actually, merely, essentially, rather, also, still, always, definitely, most, that, is, rather, rather, ndlichkeit, rarely, anyway, so, totally, well, rather, at, all, really, quite, real, normally, so, forth, no, longer, often, really, somewhere, no, longer, no, longer, anymore, immediately, no, longer, literally, also, therefore, often, so, normally, just, just, as, easily, never, just, only, just, as, easily, away, yet, once, yet, only, really, Also, Earlier, oddly, enough, also, yet, still, round, long, also, more, readily, exclusively, more, also, especially, differently, differently, differently, aside, no, longer, rather, too, also, conventionally, generally, no, suddenly, extremely, here, there, beautifully, Presently, there, Sometimes, even, no, longer, no, longer, yet, always, away, rather, most, most, rather, more, often, somehow, no, longer, also, also, less, movingly, only, somehow, instead, no, longer, entirely, just, sometimes, Suddenly, Normally, freely, all, back, ago, away, back, over, no, longer, really, Normally, only, once, very, only, as, well, no, longer, once, only, so, here, now, right, now, even, more, never, really, subjectively, elsewhere, simultaneously, alone, so, Right, instantly, else, Finally, also, as, convincingly, however, just, Perhaps, so, normally, yet, right, now, also, however, here, no, longer, no, longer, tacitly, Instead, just, especially, at, all, hence, just, there, often, at, all, Also, longer, together, then, no, longer, no, longer, up, here, mildly, So, no, longer, rather, as, frequently, implicitly, thereby, characteristically, merely, clearly, always, very, together, away, together, all, more, Now, so, as, no, longer, intensely, now, vividly, urgently, also, by, very, Further, only, differently, also, more, Normally, longer, as, well, so, so, Sometimes, so, later, really, however, alone, extra, too, sometimes, more, often, spiritually, apart, initially, then, certainly, so, away, spiritually, further, more, often, therefore, seemingly, even, more, entirely, even, effectively, deeply, away, all, rather, Often, only, also, consciously, unconsciously, often, even, long, just, so, intensely, all, about, before, after, elsewhere, rather, also, Likewise, still, geographically, also, Of, course, still, however, away, sometimes, also, most, almost, normally, simply, so, also, Furthermore, extremely, far, similarly, afterward, also, far, away, rather, also, Finally, never, only, Hence, already, wide, instead, too, too, Maybe, even, away, still, So, only, as, soon, still, even, also, Sometimes, just, away, even, away, Presently, so, quite, quickly, sometimes, never, really, just, more, equally, however, too, frequently, Moreover, too, Even, very, further, only, actually, even, so, far, easily, also, linguistically, probably, so, forth, respectively, normally, normally, thereby, yet, no, longer, yet, no, longer, also, completely, instead, too, literally, far, only, no, longer, rather, no, longer, immediately, no, longer, also, totally, even, really, consciously, intentionally, otherwise, logically, suddenly, so, so, well, Ordinarily, always, by, necessarily, ceaselessly, ceaselessly, only, minutely, normally, intensely, more, clearly, Usually, just, as, all, too, Sometimes, right, first, Normally, only, also, also, around, insofar, only, only, so, very, well, too, far, away, still, entirely, differently, Usually, entirely, otherwise, Only, somehow, however, quite, so, everywhere, entirely, actively, alone, also, there, So, apparently, also, else, partly, Conversely, entirely, actually, somewhere, often, somehow, Moreover, entirely, convincingly, that, Perhaps, only, only, really, Just, alone, exclusively, so, forth, thereby, too, actually, just, then, just, entirely, therefore, there, namely, similarly, differently, consciously, so, however, no, thereby, instead, then, instead, incorrectly, utterly, perhaps, Instead, just, else, therefore, else, more, more, actually, mistakenly, commonly, firmly, erroneously, never, rather, perfectly, well, perfectly, well, yet, generally, infinitely, as, well, back, already, immediately, rarely, even, spatially, above, rarely, more, physically, as, well, just, however, right, now, however, then, alone, then, usually, very, so, especially, just, just, therefore, only, especially, Normally, casually, always, specifically, so, however, also, necessarily, so, just, accidentally, there, further, always, after, all, then, simply, also, literally, alone, so, entirely, exclusively, else, else, Once, fully, ultimately, just, really, only, abstractly, apart, first, entirely, as, literally, only, metaphorically, here, somewhat, Normally, so, forth, even, further, Nevertheless, only, Finally, here, now, exactly, also, more, now, just, So, so, much, possibly, forward, also, no, longer, only, also, apparently, discreetly, out, very, clearly, just, clearly, still, So, too, just, also, so, so, so, as, well, more, already, further, too, most, Unfortunately, just, however, prematurely, else, So, all, everywhere, deep, later, here, now, just, already, around, so, superficially, only, now, finally, ago, up, there, so, much, there, really, then, back, there, deliberately, again, apparently, more, simply, either, no, longer, actively, no, longer, Instead, no, longer, no, longer, only, also, then, apparently, Thus, Only, really, at, all, Again, later, closely, also, more, more, first, So, conceivably, perhaps, first, that, is, easily, here, just, as, elsewhere, top, usually, Then, Also, finally, really, now, then, so, much, immediately, Apparently, Conversely, also, very, somewhere, else, So, up, there, around, too, Now, really, only, ever, ever, actively, now, just, also, back, Just, Now, everywhere, also, directly, indirectly, Now, very, so, just, past, quickly, also, mournfully, back, mainly, there, here, here, here, too, most, already, especially, especially, only, there, there, as, well, sometimes, there, so, directly, symbolically, together, Instead, so, Just, together, only, never, always, more, So, really, only, Just, normally, so, anywhere, else, anywhere, else, anywhere, else, Only, already, insofar, all, passively, actively, just, very, exactly, outside, Then, also, away, even, now, then, Sometimes, away, right, now, actively, actively, entirely, Normally, however, less, also, commonly, often, especially, more, Usually, at, all, more, also, very, more, along, even, more, Instead, rather, usually, Strangely, enough, therefore, quite, just, as, well, otherwise, Often, so, really, Rather, often, just, normally, there, sometimes, audibly, absolutely, already, conspicuously, always, very, so, there, back, repeatedly, here, there, no, longer, longer, very, most, Normally, generally, so, deeply, simply, strangely, enough, no, longer, nearly, actually, really, actually, else, even, top, incorrectly, usually, always, however, also, sometimes, just, only, especially, afterward, always, thereby, just, There, really, however, Thereby, yet, almost, completely, totally, uncannily, else, oddly, paradoxically, typically, so, quickly, uncannily, so, almost, very, nearly, only, rather, more, fixedly, ahead, then, rather, as, Even, more, probably, too, differently, no, longer, all, often, more, also, more, more, normally, often, actually, here, more, und, Also, too, Perhaps, Even, Nonetheless, much, further, only, physically, so, so, on, Here, here, within, ahead, by, inside, out, incorrectly, here, later, as, well, yet, more, easily, no, sooner, quickly, more, more, exactly, then, As, long, As, soon, usually, still, however, no, longer, no, longer, So, exactly, seriously, finally, also, exactly, even, however, rarely, Only, further, as, well, thoroughly, indeed, everywhere, irrespective, alone, also, earlier, later, earlier, later, therefore, then, just, after, Hence, only, so, far, more, then, also, then, Just, so, also, more, Visually, then, also, even, back, always, earlier, later, just, Even, still, absolutely, so, only, Indeed, here, now, now, quite, simply, conceptually, ever, Indeed, somewhere, else, thereby, else, ever, together, simultaneously, so, forth, here, now, really, NOW, immediately, no, longer, here, now, always, here, now, really, else, Someday, never, again, once, yet, ultimately, equally, only, already, rather, right, now, always, then, so, forth, never, completely, So, also, mutually, as, well, too, rather, Indeed, here, really, later, even, therefore, so, So, however, more, also, also, therefore, in, by, still, more, deeply, subjectively, now, however, even, briefly, here, mutually, also, exactly, never, so, only, only, logically, only, ultimately, exactly, already, independently, however, either, purely, even, too, now, together, differently, together, consciously, really, most, commonly, exclusively, Even, consciously, also, commonly, so, much, quite, well, really, automatically, together, more, so, much, together, completely, only, now, really, yet, So, closely, already, somewhat, especially, Recently, As, soon, innocently, in, there, apparently, actually, seemingly, semantically, dangerously, potentially, easily, So, in, well, far, well, hard, here, now, then, well, subtly, over, at, all, last, still, ago, just, just, now, here, too, together, again, endlessly, first, yet, all, over, again, out, never, Once, outside, Here, Here, there, Here, there, Now, Just, Then, suddenly, over, in, pretty, much, now, away, still, just, so, anyway, together, too, lightly, always, home, even, never, again, always, here, sometimes, now, also, no, longer, longer, no, that, is, first, consistently, just, above, therefore, more, seriously, also, notoriously, Presumably, else, however, almost, never, always, almost, radically, Unfortunately, almost, so, very, simply, most, only, aside, very, typically, likely, almost, most, seriously, very, more, still, either, even, anymore, here, longer, no, longer, longer, no, longer, anymore, only, just, also, also, purely, again, clearly, back, objectively, so, profoundly, Also, no, longer, no, longer, forward, backward, that, is, only, already, however, no, longer, no, longer, rather, together, past, equally, well, Actually, more, Instead, dynamically, no, longer, back, instead, thereby, more, literally, once, just, once, again, equally, still, still, no, longer, back, forth, just, back, forth, indeed, also, backward, Then, still, also, only, only, Thus, at, all, ago, backward, too, far, away, here, only, no, longer, no, longer, longer, essentially, else, as, soon, So, back, even, still, Back, also, together, only, over, also, otherwise, really, already, Often, always, as, now, instead, always, never, never, just, now, Now, more, deeply, endlessly, even, longer, endlessly, just, so, ever, just, as, easily, Indeed, here, now, never, never, always, Moreover, endlessly, then, no, as, well, Finally, endlessly, then, again, also, too, still, most, still, anymore, no, longer, eternally, now, so, then, then, then, then, as, long, just, then, even, more, so, on, also, only, here, now, altogether, also, also, here, no, longer, only, here, now, then, also, Instead, forever, endlessly, mainly, now, then, instead, perhaps, less, only, ever, ever, already, here, so, most, then]\n"
     ]
    }
   ],
   "source": [
    "print(adverbs)"
   ]
  },
  {
   "cell_type": "code",
   "execution_count": 191,
   "id": "7db3ec1d",
   "metadata": {},
   "outputs": [
    {
     "name": "stdout",
     "output_type": "stream",
     "text": [
      "victim\n",
      "rights\n",
      "ideas\n",
      "hyperrealism\n",
      "history\n",
      "company\n",
      "time\n",
      "Madness\n",
      "view\n",
      "aspect\n",
      "psychosis\n",
      "side\n",
      "thoughts\n",
      "perception\n",
      "play\n",
      "fine\n",
      "imagination\n",
      "moment\n",
      "time\n",
      "metatime\n"
     ]
    }
   ],
   "source": [
    "for item in random.sample(nouns, 20): # change \"nouns\" to \"verbs\" or \"adjs\" or \"advs\" to sample from those lists!\n",
    "    print(item.text)\n",
    "    #noun_list_20 += str(random.sample(nouns, 1))"
   ]
  },
  {
   "cell_type": "code",
   "execution_count": 192,
   "id": "8558f00f",
   "metadata": {},
   "outputs": [
    {
     "name": "stdout",
     "output_type": "stream",
     "text": [
      "[]\n"
     ]
    }
   ],
   "source": [
    "print(noun_list_20)"
   ]
  },
  {
   "cell_type": "code",
   "execution_count": 193,
   "id": "36c2343e",
   "metadata": {},
   "outputs": [
    {
     "name": "stdout",
     "output_type": "stream",
     "text": [
      "[piece]\n"
     ]
    }
   ],
   "source": [
    "print(str(random.sample(nouns,1)))"
   ]
  },
  {
   "cell_type": "code",
   "execution_count": 194,
   "id": "3fb44073",
   "metadata": {},
   "outputs": [
    {
     "data": {
      "text/plain": [
       "list"
      ]
     },
     "execution_count": 194,
     "metadata": {},
     "output_type": "execute_result"
    }
   ],
   "source": [
    "type(random.sample(nouns,1))"
   ]
  },
  {
   "cell_type": "code",
   "execution_count": 195,
   "id": "f946c255",
   "metadata": {},
   "outputs": [
    {
     "name": "stdout",
     "output_type": "stream",
     "text": [
      "[]\n"
     ]
    }
   ],
   "source": [
    "print(noun_list_20)"
   ]
  },
  {
   "cell_type": "code",
   "execution_count": 196,
   "id": "0b0513c4",
   "metadata": {},
   "outputs": [
    {
     "name": "stdout",
     "output_type": "stream",
     "text": [
      "philosophy\n",
      "truth\n",
      "distinction\n",
      "fact\n",
      "century\n",
      "thoughts\n",
      "Experience\n",
      "madness\n",
      "aspect\n",
      "road\n",
      "gradualness\n",
      "astonishment\n",
      "pillars\n",
      "waiter\n",
      "things\n",
      "clothes\n",
      "space\n",
      "set\n",
      "madman\n",
      "statements\n"
     ]
    }
   ],
   "source": [
    "for noun in random.sample(nouns, 20):\n",
    "    word = \"\"\n",
    "    for char in str(noun):\n",
    "        word += str(char)\n",
    "    print(word)\n",
    "    noun_list_20.append(word)"
   ]
  },
  {
   "cell_type": "code",
   "execution_count": 222,
   "id": "318b1493",
   "metadata": {},
   "outputs": [
    {
     "name": "stdout",
     "output_type": "stream",
     "text": [
      "Created\n",
      "stares\n",
      "keep\n",
      "located\n",
      "established\n",
      "thinking\n",
      "means\n",
      "is\n",
      "says\n",
      "results\n",
      "walking\n",
      "grounded\n",
      "presume\n",
      "attacked\n",
      "entered\n",
      "reflecting\n",
      "seem\n",
      "quoted\n",
      "conclude\n",
      "decoded\n"
     ]
    }
   ],
   "source": [
    "for verb in random.sample(verbs, 20):\n",
    "    word = \"\"\n",
    "    for char in str(verb):\n",
    "        word += str(char)\n",
    "    print(word)\n",
    "    verb_list_20.append(word)"
   ]
  },
  {
   "cell_type": "code",
   "execution_count": 198,
   "id": "a867c227",
   "metadata": {},
   "outputs": [],
   "source": [
    "for adj in random.sample(adjectives, 20):\n",
    "    word = \"\"\n",
    "    for char in str(adj):\n",
    "        word += str(char)\n",
    "    adj_list_20.append(word)"
   ]
  },
  {
   "cell_type": "code",
   "execution_count": 199,
   "id": "eb905f07",
   "metadata": {},
   "outputs": [],
   "source": [
    "for adv in random.sample(adverbs, 20):\n",
    "    word = \"\"\n",
    "    for char in str(adv):\n",
    "        word += str(char)\n",
    "    adv_list_20.append(word)"
   ]
  },
  {
   "cell_type": "code",
   "execution_count": 200,
   "id": "f14bfac3",
   "metadata": {},
   "outputs": [
    {
     "name": "stdout",
     "output_type": "stream",
     "text": [
      "['philosophy', 'truth', 'distinction', 'fact', 'century', 'thoughts', 'Experience', 'madness', 'aspect', 'road', 'gradualness', 'astonishment', 'pillars', 'waiter', 'things', 'clothes', 'space', 'set', 'madman', 'statements']\n"
     ]
    }
   ],
   "source": [
    "print(noun_list_20)"
   ]
  },
  {
   "cell_type": "code",
   "execution_count": 201,
   "id": "2b38ec8f",
   "metadata": {
    "scrolled": true
   },
   "outputs": [
    {
     "name": "stdout",
     "output_type": "stream",
     "text": [
      "infinitely\n"
     ]
    }
   ],
   "source": [
    "print(word)"
   ]
  },
  {
   "cell_type": "code",
   "execution_count": 223,
   "id": "a276d756",
   "metadata": {},
   "outputs": [
    {
     "name": "stdout",
     "output_type": "stream",
     "text": [
      "['fundamental', 'ordinary', 'evident', 'absent', 'alternate', 'intersubjective', 'own', 'difficult', 'twentieth', 'primary', 'linear', 'mad', 'Bottom', 'disordered', 'certain', 'careful', 'shorter', 'secondary', 'sole', 'later']\n"
     ]
    }
   ],
   "source": [
    "print(adj_list_20)"
   ]
  },
  {
   "cell_type": "code",
   "execution_count": 224,
   "id": "f36d8813",
   "metadata": {},
   "outputs": [
    {
     "name": "stdout",
     "output_type": "stream",
     "text": [
      "['included', 'look', 'makes', 'overlap', 'walked', 'come', 'see', 'see', 'seem', 'mixed', 'appear', 'remains', 'takes', 'recognize', 'stand', 'interpret', 'disappeared', 'reducing', 'offer', 'notice', 'Created', 'stares', 'keep', 'located', 'established', 'thinking', 'means', 'is', 'says', 'results', 'walking', 'grounded', 'presume', 'attacked', 'entered', 'reflecting', 'seem', 'quoted', 'conclude', 'decoded']\n"
     ]
    }
   ],
   "source": [
    "print(verb_list_20)"
   ]
  },
  {
   "cell_type": "code",
   "execution_count": 202,
   "id": "e501052d",
   "metadata": {},
   "outputs": [],
   "source": [
    "import tracery"
   ]
  },
  {
   "cell_type": "code",
   "execution_count": 203,
   "id": "87b2e359",
   "metadata": {},
   "outputs": [],
   "source": [
    "rules = {\n",
    "  \"origin\": \"Hello, #noun#!\",\n",
    "  \"noun\": noun_list_20\n",
    "}"
   ]
  },
  {
   "cell_type": "code",
   "execution_count": 204,
   "id": "e3b87db1",
   "metadata": {},
   "outputs": [],
   "source": [
    "grammar = tracery.Grammar(rules)"
   ]
  },
  {
   "cell_type": "code",
   "execution_count": 205,
   "id": "f9468745",
   "metadata": {},
   "outputs": [
    {
     "data": {
      "text/plain": [
       "'Hello, statements!'"
      ]
     },
     "execution_count": 205,
     "metadata": {},
     "output_type": "execute_result"
    }
   ],
   "source": [
    "grammar.flatten(\"#origin#\")"
   ]
  },
  {
   "cell_type": "code",
   "execution_count": 225,
   "id": "d2f8f362",
   "metadata": {},
   "outputs": [],
   "source": [
    "people_list_20 = []"
   ]
  },
  {
   "cell_type": "code",
   "execution_count": 226,
   "id": "20c50c22",
   "metadata": {},
   "outputs": [],
   "source": [
    "people = [e for e in entities if e.label_ == \"PERSON\"]"
   ]
  },
  {
   "cell_type": "code",
   "execution_count": 227,
   "id": "b5c2ee39",
   "metadata": {},
   "outputs": [],
   "source": [
    "for person in random.sample(people, 20):\n",
    "    word = \"\"\n",
    "    for char in str(person):\n",
    "        word += str(char)\n",
    "    people_list_20.append(word)"
   ]
  },
  {
   "cell_type": "code",
   "execution_count": 228,
   "id": "3ad29db7",
   "metadata": {},
   "outputs": [
    {
     "name": "stdout",
     "output_type": "stream",
     "text": [
      "[M.C. Escher’s, Carney Landis, John Custance, Folly, Custance, Lara Jefferson, Bert Kaplan’s, Radovic, Radovic, Carney Landis’s, Ren  Descartes, Elke Müller, Descartes, Descartes, Edmund Husserl, Wolfgang Blankenburg, Radovic, Radovic, Schelling, Daniel P. Schreber’s, Marguerite Sechehaye, Renee, Renee, jack, Sechehaye, Renee, Mary Watching Her Son’s Passion, Sechehaye, Renee, Elisabeth Farr, August Strindberg, V. P., Lenore McCall, Landis, Giovanni Stanghellini’s, Thomas Bock, Hahn, Louis Sass, Janet, Landis, Judy, Hyporeality, Sass, Stanghellini, Renee, Thomas Hennell, Meyer, Stanghellini, Hackett, Napoleon, Stalin, Napoleon, Eug ne Minkowski, Caroline Brett’s, Descartes, Custance, Landis, John Watkins, John E. Nelson, Podvoll, Carl Gustav Jung, Sanford, Jefferson, Parnas, Parnas, Paul Moyaert, Radovic, Radovic, Stanghellini, Lezy, Arieti, Michaux, Sartre 2003, Wittgenstein, Donald Davidson, Wahnstimmung, Custance, Sass, Wahnstimmung, Karl Jaspers, Wahnstimmung, Sass, Willem Elsschot’s, Wittgenstein, Sass, Wahnstimmung, Wahnstimmung, Wahnstimmung, Lezy, Hans, Lezy, Renee, Farr, Klaus Conrad, Schizophrenie, Thornton, Jannemiek Tukker, Wahnstimmung, Jaspers, Lezy, Ernst Cassirer, Belebung und Beseelung, Qualit , wieder zum entgegengesetzten, Extrem, Art Materialisierung, Inhalte zurück., Aristotle, Paul Ricoeur, Aristotle, Aristotle, Aristotle, Aristotle, Ricoeur, Ricoeur, Ricoeur, Aristotle, Aristotle, Maurice, Dan Zahavi, Ricoeur, Ricoeur, Ricoeur, Charlie, Aristotle, Merleau-Ponty, Matthew Broome, John M. E. McTaggart, McTaggart, Broome, McTaggart, Broome, McTaggart, Broome, Broome, McTaggart, Fiona Jong, Jong, Jong, Blankenburg, Brett, Zeno, Sam Gerrits, J. W. Perry 197411, Piet Kuiper, Kuiper]\n"
     ]
    }
   ],
   "source": [
    "print(people)"
   ]
  },
  {
   "cell_type": "code",
   "execution_count": 229,
   "id": "7a4364f0",
   "metadata": {},
   "outputs": [],
   "source": [
    "rules_pollan = {\n",
    "    \"origin\": \"I love stories that #verb# #noun#, #noun#, and #noun# to understand a #adjective# problem. #people#, a #noun# and #noun#, has written such a story about how we care for or, more accurately, how we have failed to #verb# for people with #adjective# #noun#\",\n",
    "    \"noun\": noun_list_20,\n",
    "    \"adjective\": adj_list_20,\n",
    "    \"verb\": verb_list_20,\n",
    "    \"people\": people_list_20\n",
    "}"
   ]
  },
  {
   "cell_type": "code",
   "execution_count": 230,
   "id": "a35de520",
   "metadata": {},
   "outputs": [],
   "source": [
    "grammar = tracery.Grammar(rules_pollan)"
   ]
  },
  {
   "cell_type": "code",
   "execution_count": 233,
   "id": "6e300275",
   "metadata": {},
   "outputs": [
    {
     "data": {
      "text/plain": [
       "'I love stories that included madman, Experience, and century to understand a disordered problem. Ernst Cassirer, a truth and Experience, has written such a story about how we care for or, more accurately, how we have failed to come for people with disordered pillars'"
      ]
     },
     "execution_count": 233,
     "metadata": {},
     "output_type": "execute_result"
    }
   ],
   "source": [
    "grammar.flatten(\"#origin#\")"
   ]
  },
  {
   "cell_type": "code",
   "execution_count": null,
   "id": "81d8d687",
   "metadata": {},
   "outputs": [],
   "source": []
  },
  {
   "cell_type": "code",
   "execution_count": null,
   "id": "30dfb8cb",
   "metadata": {},
   "outputs": [],
   "source": []
  }
 ],
 "metadata": {
  "kernelspec": {
   "display_name": "Python 3 (ipykernel)",
   "language": "python",
   "name": "python3"
  },
  "language_info": {
   "codemirror_mode": {
    "name": "ipython",
    "version": 3
   },
   "file_extension": ".py",
   "mimetype": "text/x-python",
   "name": "python",
   "nbconvert_exporter": "python",
   "pygments_lexer": "ipython3",
   "version": "3.9.7"
  }
 },
 "nbformat": 4,
 "nbformat_minor": 5
}
