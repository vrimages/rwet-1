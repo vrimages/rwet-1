{
 "cells": [
  {
   "cell_type": "code",
   "execution_count": 1,
   "id": "a6bfe369",
   "metadata": {},
   "outputs": [
    {
     "name": "stdout",
     "output_type": "stream",
     "text": [
      "Collecting tracery\n",
      "  Downloading tracery-0.1.1.tar.gz (8.1 kB)\n",
      "Building wheels for collected packages: tracery\n",
      "  Building wheel for tracery (setup.py) ... \u001b[?25ldone\n",
      "\u001b[?25h  Created wheel for tracery: filename=tracery-0.1.1-py3-none-any.whl size=7696 sha256=32098462a695f3174f1b1986b8273b394984b924e6f378fcb29b7f58e7ff01a6\n",
      "  Stored in directory: /Users/lucaswozniak/Library/Caches/pip/wheels/a3/74/46/553a949119086ada4c0ecf608890fb79513349b9057e514885\n",
      "Successfully built tracery\n",
      "Installing collected packages: tracery\n",
      "Successfully installed tracery-0.1.1\n"
     ]
    }
   ],
   "source": [
    "!pip install tracery"
   ]
  },
  {
   "cell_type": "code",
   "execution_count": 3,
   "id": "92ca5bad",
   "metadata": {},
   "outputs": [],
   "source": [
    "import tracery"
   ]
  },
  {
   "cell_type": "code",
   "execution_count": 30,
   "id": "3368507f",
   "metadata": {},
   "outputs": [],
   "source": [
    "rules = {\n",
    "    \"origin\": \"#adjective# #noun# for #noun2#: A #adjective2# #noun3#\",\n",
    "    \"adjective\": [\"Dark trap-themed\", \"Angel-driven\", \"Desert-dry\", \"Half-eaten\", \"Peace-lillied\", \"Corruption-prone\", \"Immaterially transcendental\"],\n",
    "    \"noun\": [\"ML monster\", \"neural correlate\", \"underwater garden\", \"AR lenses\", \"embodiment vortex\", \"cheap bedroom\", \"mobile sex-ed classroom\"],\n",
    "    \"noun2\": [\"seniors with angst\", \"real-life living\", \"illicit avatars\", \"international peace-brokering\", \"broken femurs\", \"grad school dropouts\"],\n",
    "    \"adjective2\": [\"somewhat selective\", \"third-party\", \"blockchain-based\", \"semi-ethical\", \"mind-blowing\", \"manifesto-enabled\", \"trans-communist\"],\n",
    "    \"noun3\": [\"criminal trial\", \"de-funded study\", \"treasonable review\", \"geotagged lifepath\", \"mis-management tool\", \"deluxe delivery system\"]\n",
    "}"
   ]
  },
  {
   "cell_type": "code",
   "execution_count": 31,
   "id": "c08824e6",
   "metadata": {},
   "outputs": [],
   "source": [
    "grammar = tracery.Grammar(rules)"
   ]
  },
  {
   "cell_type": "code",
   "execution_count": 33,
   "id": "0efdc64e",
   "metadata": {},
   "outputs": [
    {
     "name": "stdout",
     "output_type": "stream",
     "text": [
      "Angel-driven AR lenses for broken femurs: A trans-communist treasonable review\n",
      "Corruption-prone underwater garden for illicit avatars: A blockchain-based de-funded study\n",
      "Dark trap-themed underwater garden for international peace-brokering: A manifesto-enabled de-funded study\n",
      "Dark trap-themed AR lenses for international peace-brokering: A semi-ethical geotagged lifepath\n",
      "Desert-dry cheap bedroom for broken femurs: A manifesto-enabled mis-management tool\n"
     ]
    }
   ],
   "source": [
    "for i in range(5):\n",
    "    print(grammar.flatten(\"#origin#\"))"
   ]
  },
  {
   "cell_type": "code",
   "execution_count": null,
   "id": "988db268",
   "metadata": {},
   "outputs": [],
   "source": []
  }
 ],
 "metadata": {
  "kernelspec": {
   "display_name": "Python 3 (ipykernel)",
   "language": "python",
   "name": "python3"
  },
  "language_info": {
   "codemirror_mode": {
    "name": "ipython",
    "version": 3
   },
   "file_extension": ".py",
   "mimetype": "text/x-python",
   "name": "python",
   "nbconvert_exporter": "python",
   "pygments_lexer": "ipython3",
   "version": "3.9.7"
  }
 },
 "nbformat": 4,
 "nbformat_minor": 5
}
