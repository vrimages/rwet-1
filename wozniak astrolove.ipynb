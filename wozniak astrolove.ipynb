{
 "cells": [
  {
   "cell_type": "markdown",
   "metadata": {},
   "source": [
    "My first poem gen experiment."
   ]
  },
  {
   "cell_type": "code",
   "execution_count": 32,
   "metadata": {},
   "outputs": [],
   "source": [
    "import random\n",
    "#import re"
   ]
  },
  {
   "cell_type": "code",
   "execution_count": 33,
   "metadata": {},
   "outputs": [],
   "source": [
    "signs = ['Aries',\n",
    "         'Taurus',\n",
    "         'Gemini',\n",
    "         'Cancer',\n",
    "         'Leo',\n",
    "         'Virgo',\n",
    "         'Libra',\n",
    "         'Scorpio',\n",
    "         'Sagittarius',\n",
    "         'Capricorn',\n",
    "         'Aquarius',\n",
    "         'Pisces']"
   ]
  },
  {
   "cell_type": "code",
   "execution_count": 34,
   "metadata": {},
   "outputs": [],
   "source": [
    "text_aries = open(\"1.txt\").read()\n",
    "if \"?\" in text_aries: text_aries = text_aries.replace(\"?\",\".\")\n",
    "sentences_aries = text_aries.split(\". \")\n",
    "#sentences_aries\n",
    "#text_aries\n",
    "#sentences_aries = re.split(r\". |? \", text_aries)\n",
    "#sentences_aries = re.findall(r'?.', text_aries)\n",
    "#sentences_aries = text_aries.split(\". \")\n",
    "#sentences_aries = text_aries.split(\". \") + text_aries.split(\"? \")\n",
    "#sentences_aries\n",
    "#sentences_aries_q = text_aries.split(\"? \")\n",
    "#sentences_aries = sentences_aries + sentences_aries_q\n",
    "#sentences_aries"
   ]
  },
  {
   "cell_type": "code",
   "execution_count": 35,
   "metadata": {},
   "outputs": [],
   "source": [
    "text_taurus = open(\"2.txt\").read()\n",
    "if \"?\" in text_taurus: text_taurus = text_taurus.replace(\"?\",\".\")\n",
    "sentences_taurus = text_taurus.split(\". \")\n",
    "#sentences_taurus"
   ]
  },
  {
   "cell_type": "code",
   "execution_count": 36,
   "metadata": {},
   "outputs": [],
   "source": [
    "text_gemini = open(\"3.txt\").read()\n",
    "if \"?\" in text_gemini: text_gemini = text_gemini.replace(\"?\",\".\")\n",
    "sentences_gemini = text_gemini.split(\". \")\n",
    "#sentences_gemini"
   ]
  },
  {
   "cell_type": "code",
   "execution_count": 37,
   "metadata": {},
   "outputs": [],
   "source": [
    "text_cancer = open(\"4.txt\").read()\n",
    "if \"?\" in text_cancer: text_cancer = text_cancer.replace(\"?\",\".\")\n",
    "sentences_cancer = text_cancer.split(\". \")"
   ]
  },
  {
   "cell_type": "code",
   "execution_count": 38,
   "metadata": {},
   "outputs": [],
   "source": [
    "text_leo = open(\"5.txt\").read()\n",
    "if \"?\" in text_leo: text_leo = text_leo.replace(\"?\",\".\")\n",
    "sentences_leo = text_leo.split(\". \")"
   ]
  },
  {
   "cell_type": "code",
   "execution_count": 46,
   "metadata": {},
   "outputs": [],
   "source": [
    "text_virgo = open(\"6.txt\").read()\n",
    "if \"?\" in text_virgo: text_virgo = text_virgo.replace(\"?\",\".\")\n",
    "sentences_virgo = text_virgo.split(\". \")"
   ]
  },
  {
   "cell_type": "code",
   "execution_count": 47,
   "metadata": {},
   "outputs": [],
   "source": [
    "text_libra = open(\"7.txt\").read()\n",
    "if \"?\" in text_libra: text_libra = text_libra.replace(\"?\",\".\")\n",
    "sentences_libra = text_libra.split(\". \")"
   ]
  },
  {
   "cell_type": "code",
   "execution_count": 48,
   "metadata": {},
   "outputs": [],
   "source": [
    "text_scorpio = open(\"8.txt\").read()\n",
    "if \"?\" in text_scorpio: text_scorpio = text_scorpio.replace(\"?\",\".\")\n",
    "sentences_scorpio = text_scorpio.split(\". \")"
   ]
  },
  {
   "cell_type": "code",
   "execution_count": 49,
   "metadata": {},
   "outputs": [],
   "source": [
    "text_sagittarius = open(\"9.txt\").read()\n",
    "if \"?\" in text_sagittarius: text_sagittarius = text_sagittarius.replace(\"?\",\".\")\n",
    "sentences_sagittarius = text_sagittarius.split(\". \")"
   ]
  },
  {
   "cell_type": "code",
   "execution_count": 50,
   "metadata": {},
   "outputs": [],
   "source": [
    "text_capricorn = open(\"10.txt\").read()\n",
    "if \"?\" in text_capricorn: text_capricorn = text_capricorn.replace(\"?\",\".\")\n",
    "sentences_capricorn = text_capricorn.split(\". \")"
   ]
  },
  {
   "cell_type": "code",
   "execution_count": 51,
   "metadata": {},
   "outputs": [],
   "source": [
    "text_aquarius = open(\"11.txt\").read()\n",
    "if \"?\" in text_aquarius: text_aquarius = text_aquarius.replace(\"?\",\".\")\n",
    "sentences_aquarius = text_aquarius.split(\". \")"
   ]
  },
  {
   "cell_type": "code",
   "execution_count": 52,
   "metadata": {},
   "outputs": [],
   "source": [
    "text_pisces = open(\"12.txt\").read()\n",
    "if \"?\" in text_pisces: text_pisces = text_pisces.replace(\"?\",\".\")\n",
    "sentences_pisces = text_pisces.split(\". \")"
   ]
  },
  {
   "cell_type": "code",
   "execution_count": 53,
   "metadata": {},
   "outputs": [],
   "source": [
    "corpus = [sentences_aries, sentences_taurus, sentences_gemini, sentences_cancer, sentences_leo,\n",
    "         sentences_virgo, sentences_libra, sentences_scorpio, sentences_sagittarius,\n",
    "         sentences_capricorn, sentences_aquarius, sentences_pisces]"
   ]
  },
  {
   "cell_type": "code",
   "execution_count": 58,
   "metadata": {},
   "outputs": [
    {
     "name": "stdout",
     "output_type": "stream",
     "text": [
      "You're not about to settle for anything less than the real deal, and you shouldn't.\n",
      "\n",
      "Don't hesitate to prioritize your alone time today.\n",
      "\n",
      "The moon will shift into freedom-loving Aquarius, activating your committed seventh house of agreements, compromise, and significant others, which means there will be greater emphasis on you and your special someone's solo projects at this time.\n",
      "\n",
      "On another note, however, Luna's sextile to the wounded healer, Chiron in your sign could simultaneously trigger feelings of insecurity, and emotional tension in the process.\n",
      "\n",
      "Do you and your lover share similar hopes and dreams.\n",
      "\n"
     ]
    }
   ],
   "source": [
    "stanza_count = 5\n",
    "horoscope = \"\"\n",
    "for i in range(stanza_count):\n",
    "    which_sign = random.randrange(0, 12)\n",
    "    sign_text = corpus[which_sign]\n",
    "    which_sentence = random.randrange(0, len(sign_text))\n",
    "    \n",
    "    sentence = sign_text[which_sentence]\n",
    "    #sentence = corpus[which_sign[which_sentence]]\n",
    "    if \".\" not in sentence: sentence += \".\"\n",
    "    if sentence not in horoscope:\n",
    "        horoscope += sentence\n",
    "        print(sentence)\n",
    "        print()\n",
    "    #print()\n",
    "    #print(\"A house of \" + random.choice(materials))\n",
    "    #print(\"     \" + random.choice(locations))\n",
    "    #print(\"          using \" + random.choice(lights))\n",
    "    #print(\"                inhabited by \" + random.choice(inhabitants))"
   ]
  },
  {
   "cell_type": "code",
   "execution_count": null,
   "metadata": {},
   "outputs": [],
   "source": []
  }
 ],
 "metadata": {
  "kernelspec": {
   "display_name": "Python 3",
   "language": "python",
   "name": "python3"
  },
  "language_info": {
   "codemirror_mode": {
    "name": "ipython",
    "version": 3
   },
   "file_extension": ".py",
   "mimetype": "text/x-python",
   "name": "python",
   "nbconvert_exporter": "python",
   "pygments_lexer": "ipython3",
   "version": "3.7.7"
  }
 },
 "nbformat": 4,
 "nbformat_minor": 4
}
